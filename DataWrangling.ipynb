{
 "cells": [
  {
   "cell_type": "code",
   "execution_count": 123,
   "id": "b1df7035-a009-4b35-ba7b-fd0373a6b3d1",
   "metadata": {},
   "outputs": [],
   "source": [
    "import pandas as pd\n",
    "journals1= pd.read_csv('Journals Part 1.csv')\n",
    "journals2 = pd.read_csv('Journals Part 2.csv')\n",
    "journals = pd.concat([journals1,journals2])"
   ]
  },
  {
   "cell_type": "code",
   "execution_count": 93,
   "id": "29598800-34a0-4877-86ab-2cf53e5cdc41",
   "metadata": {},
   "outputs": [],
   "source": [
    "sales = pd.read_excel('SalesCS.xlsx')"
   ]
  },
  {
   "cell_type": "code",
   "execution_count": 94,
   "id": "ef24cde6-6e76-49d1-b150-130b5a2b9008",
   "metadata": {},
   "outputs": [],
   "source": [
    "accountsteam = pd.read_csv('Accounts Team Staff.csv')"
   ]
  },
  {
   "cell_type": "code",
   "execution_count": 125,
   "id": "286fdbdd-12e7-42b0-a63d-a6a6438d5d94",
   "metadata": {},
   "outputs": [],
   "source": [
    "journals = journals.merge(accountsteam, how = 'left', left_on = 'JnlPrep', right_on = 'EmployeeRef')"
   ]
  },
  {
   "cell_type": "code",
   "execution_count": 127,
   "id": "1beadfdb-045c-41a7-9c7a-dd88499a6f71",
   "metadata": {},
   "outputs": [],
   "source": [
    "journals['JnlPreparerName'] = journals['Employee Name']\n",
    "journals = journals.drop(columns = ['EmployeeRef','Employee Name'])"
   ]
  },
  {
   "cell_type": "code",
   "execution_count": 129,
   "id": "996109cc-cf74-4812-8484-7097e2afef06",
   "metadata": {},
   "outputs": [],
   "source": [
    "journals = journals.merge(accountsteam, how = 'left', left_on='JnlAuth',right_on = 'EmployeeRef')"
   ]
  },
  {
   "cell_type": "code",
   "execution_count": 131,
   "id": "278b7078-cac4-4111-98ee-f6113a180383",
   "metadata": {},
   "outputs": [
    {
     "data": {
      "text/html": [
       "<div>\n",
       "<style scoped>\n",
       "    .dataframe tbody tr th:only-of-type {\n",
       "        vertical-align: middle;\n",
       "    }\n",
       "\n",
       "    .dataframe tbody tr th {\n",
       "        vertical-align: top;\n",
       "    }\n",
       "\n",
       "    .dataframe thead th {\n",
       "        text-align: right;\n",
       "    }\n",
       "</style>\n",
       "<table border=\"1\" class=\"dataframe\">\n",
       "  <thead>\n",
       "    <tr style=\"text-align: right;\">\n",
       "      <th></th>\n",
       "      <th>Account</th>\n",
       "      <th>AccountDesc</th>\n",
       "      <th>TransDesc</th>\n",
       "      <th>Debit</th>\n",
       "      <th>Credit</th>\n",
       "      <th>Period</th>\n",
       "      <th>JnlNo</th>\n",
       "      <th>JnlDesc</th>\n",
       "      <th>Amount</th>\n",
       "      <th>JnlPrep</th>\n",
       "      <th>JnlAuth</th>\n",
       "      <th>JnlDateTime</th>\n",
       "      <th>JnlPreparerName</th>\n",
       "      <th>JnlAuthoriserName</th>\n",
       "    </tr>\n",
       "  </thead>\n",
       "  <tbody>\n",
       "    <tr>\n",
       "      <th>0</th>\n",
       "      <td>00-80-8033</td>\n",
       "      <td>Provision for Sales Schemes</td>\n",
       "      <td>ZZX</td>\n",
       "      <td>0.00</td>\n",
       "      <td>9668.59</td>\n",
       "      <td>2019-1</td>\n",
       "      <td>1</td>\n",
       "      <td>Reversed By Jnl 2019-9 Journal No. 277</td>\n",
       "      <td>-9668.59</td>\n",
       "      <td>HV09</td>\n",
       "      <td>AS13</td>\n",
       "      <td>01/01/2019 13:04</td>\n",
       "      <td>Lakeisha Testerman</td>\n",
       "      <td>Jonelle Moseley</td>\n",
       "    </tr>\n",
       "    <tr>\n",
       "      <th>1</th>\n",
       "      <td>00-10-1002</td>\n",
       "      <td>Provisions - Trade Sales</td>\n",
       "      <td>XXX</td>\n",
       "      <td>9668.59</td>\n",
       "      <td>0.00</td>\n",
       "      <td>2019-1</td>\n",
       "      <td>1</td>\n",
       "      <td>Reversed By Jnl 2019-9 Journal No. 277</td>\n",
       "      <td>9668.59</td>\n",
       "      <td>HV09</td>\n",
       "      <td>AS13</td>\n",
       "      <td>01/01/2019 13:04</td>\n",
       "      <td>Lakeisha Testerman</td>\n",
       "      <td>Jonelle Moseley</td>\n",
       "    </tr>\n",
       "    <tr>\n",
       "      <th>2</th>\n",
       "      <td>00-80-8033</td>\n",
       "      <td>Provision for Sales Schemes</td>\n",
       "      <td>ZZX</td>\n",
       "      <td>0.00</td>\n",
       "      <td>291191.30</td>\n",
       "      <td>2019-1</td>\n",
       "      <td>1</td>\n",
       "      <td>Reversed By Jnl 2019-9 Journal No. 277</td>\n",
       "      <td>-291191.30</td>\n",
       "      <td>HV09</td>\n",
       "      <td>AS13</td>\n",
       "      <td>01/01/2019 13:04</td>\n",
       "      <td>Lakeisha Testerman</td>\n",
       "      <td>Jonelle Moseley</td>\n",
       "    </tr>\n",
       "    <tr>\n",
       "      <th>3</th>\n",
       "      <td>00-10-1001</td>\n",
       "      <td>Trade Sale Recycle Scheme</td>\n",
       "      <td>ZZZ</td>\n",
       "      <td>291191.30</td>\n",
       "      <td>0.00</td>\n",
       "      <td>2019-1</td>\n",
       "      <td>1</td>\n",
       "      <td>Reversed By Jnl 2019-9 Journal No. 277</td>\n",
       "      <td>291191.30</td>\n",
       "      <td>HV09</td>\n",
       "      <td>AS13</td>\n",
       "      <td>01/01/2019 13:04</td>\n",
       "      <td>Lakeisha Testerman</td>\n",
       "      <td>Jonelle Moseley</td>\n",
       "    </tr>\n",
       "    <tr>\n",
       "      <th>4</th>\n",
       "      <td>00-20-2004</td>\n",
       "      <td>Provision for Obselete Inventory</td>\n",
       "      <td>923</td>\n",
       "      <td>0.00</td>\n",
       "      <td>12848.50</td>\n",
       "      <td>2019-1</td>\n",
       "      <td>10</td>\n",
       "      <td>Reversed By Jnl 2019-4 Journal No. 366</td>\n",
       "      <td>-12848.50</td>\n",
       "      <td>DF18</td>\n",
       "      <td>TC01</td>\n",
       "      <td>30/01/2019 09:56</td>\n",
       "      <td>Jon Mckinley</td>\n",
       "      <td>Johnny Hevey</td>\n",
       "    </tr>\n",
       "  </tbody>\n",
       "</table>\n",
       "</div>"
      ],
      "text/plain": [
       "      Account                       AccountDesc TransDesc      Debit  \\\n",
       "0  00-80-8033       Provision for Sales Schemes       ZZX       0.00   \n",
       "1  00-10-1002          Provisions - Trade Sales       XXX    9668.59   \n",
       "2  00-80-8033       Provision for Sales Schemes       ZZX       0.00   \n",
       "3  00-10-1001         Trade Sale Recycle Scheme       ZZZ  291191.30   \n",
       "4  00-20-2004  Provision for Obselete Inventory       923       0.00   \n",
       "\n",
       "      Credit  Period  JnlNo                                 JnlDesc  \\\n",
       "0    9668.59  2019-1      1  Reversed By Jnl 2019-9 Journal No. 277   \n",
       "1       0.00  2019-1      1  Reversed By Jnl 2019-9 Journal No. 277   \n",
       "2  291191.30  2019-1      1  Reversed By Jnl 2019-9 Journal No. 277   \n",
       "3       0.00  2019-1      1  Reversed By Jnl 2019-9 Journal No. 277   \n",
       "4   12848.50  2019-1     10  Reversed By Jnl 2019-4 Journal No. 366   \n",
       "\n",
       "      Amount JnlPrep JnlAuth       JnlDateTime       JnlPreparerName  \\\n",
       "0   -9668.59    HV09    AS13  01/01/2019 13:04  Lakeisha Testerman     \n",
       "1    9668.59    HV09    AS13  01/01/2019 13:04  Lakeisha Testerman     \n",
       "2 -291191.30    HV09    AS13  01/01/2019 13:04  Lakeisha Testerman     \n",
       "3  291191.30    HV09    AS13  01/01/2019 13:04  Lakeisha Testerman     \n",
       "4  -12848.50    DF18    TC01  30/01/2019 09:56        Jon Mckinley     \n",
       "\n",
       "   JnlAuthoriserName  \n",
       "0  Jonelle Moseley    \n",
       "1  Jonelle Moseley    \n",
       "2  Jonelle Moseley    \n",
       "3  Jonelle Moseley    \n",
       "4     Johnny Hevey    "
      ]
     },
     "execution_count": 131,
     "metadata": {},
     "output_type": "execute_result"
    }
   ],
   "source": [
    "journals['JnlAuthoriserName'] = journals['Employee Name']\n",
    "journals = journals.drop(columns = ['EmployeeRef', 'Employee Name'])\n",
    "journals.head()"
   ]
  },
  {
   "cell_type": "code",
   "execution_count": 133,
   "id": "8d88d5d9-9e30-4093-a0d9-edbbb1a8aabe",
   "metadata": {},
   "outputs": [
    {
     "data": {
      "text/plain": [
       "0       False\n",
       "1       False\n",
       "2       False\n",
       "3       False\n",
       "4       False\n",
       "        ...  \n",
       "3996     True\n",
       "3997     True\n",
       "3998     True\n",
       "3999     True\n",
       "4000     True\n",
       "Length: 4001, dtype: bool"
      ]
     },
     "execution_count": 133,
     "metadata": {},
     "output_type": "execute_result"
    }
   ],
   "source": [
    "#Check for duplicates. Subset  = None means that all columns will be checked. If you want to check specific columns you would write the column header as a string here.\n",
    "#Saying 'first' means that only the first duplicate is considered 'false' and returned, the rest are treated as 'True'\n",
    "journals.duplicated(subset = None, keep = 'first')"
   ]
  },
  {
   "cell_type": "code",
   "execution_count": 135,
   "id": "78f86ccb-f974-424b-ade5-bd92398bdae1",
   "metadata": {},
   "outputs": [
    {
     "name": "stdout",
     "output_type": "stream",
     "text": [
      "40\n"
     ]
    }
   ],
   "source": [
    "duplicates = journals.duplicated()\n",
    "duplicated_values = journals[duplicates].sort_values(by = 'Amount')\n",
    "print(duplicated_values['JnlNo'].count())"
   ]
  },
  {
   "cell_type": "code",
   "execution_count": 137,
   "id": "93f579bb-d3a1-4075-9aa6-516f2a0f3a08",
   "metadata": {},
   "outputs": [],
   "source": [
    "journals.drop_duplicates(inplace = True)"
   ]
  },
  {
   "cell_type": "code",
   "execution_count": 139,
   "id": "d8d51581-0c79-418d-932d-9f0b4353dd7b",
   "metadata": {},
   "outputs": [
    {
     "name": "stdout",
     "output_type": "stream",
     "text": [
      "0\n"
     ]
    }
   ],
   "source": [
    "duplicates = journals.duplicated()\n",
    "duplicated_values = journals[duplicates].sort_values(by = 'Amount')\n",
    "print(duplicated_values['JnlNo'].count())"
   ]
  },
  {
   "cell_type": "code",
   "execution_count": 141,
   "id": "8ddd00e8-e458-48d3-8ea6-1eeb92f8fd3b",
   "metadata": {},
   "outputs": [
    {
     "data": {
      "text/plain": [
       "1027    NaN\n",
       "1028    NaN\n",
       "1029    NaN\n",
       "1030    NaN\n",
       "1031    NaN\n",
       "1032    NaN\n",
       "1033    NaN\n",
       "1034    NaN\n",
       "1035    NaN\n",
       "1036    NaN\n",
       "1037    NaN\n",
       "1038    NaN\n",
       "1039    NaN\n",
       "1040    NaN\n",
       "1041    NaN\n",
       "1042    NaN\n",
       "1043    NaN\n",
       "Name: JnlDateTime, dtype: object"
      ]
     },
     "execution_count": 141,
     "metadata": {},
     "output_type": "execute_result"
    }
   ],
   "source": [
    "#Now to identify any null values\n",
    "journals.JnlDateTime[journals.JnlDateTime.isna()]"
   ]
  },
  {
   "cell_type": "code",
   "execution_count": 143,
   "id": "3a93cfe1-d7ba-444d-99af-e7c6cff4d1e5",
   "metadata": {},
   "outputs": [
    {
     "data": {
      "text/plain": [
       "0       Reversed By Jnl 2019-9 Journal No. 277\n",
       "1       Reversed By Jnl 2019-9 Journal No. 277\n",
       "2       Reversed By Jnl 2019-9 Journal No. 277\n",
       "3       Reversed By Jnl 2019-9 Journal No. 277\n",
       "4       Reversed By Jnl 2019-4 Journal No. 366\n",
       "                         ...                  \n",
       "3971                                     Blank\n",
       "3972                                     Blank\n",
       "3973                                     Blank\n",
       "3974                                     Blank\n",
       "3975                                     Blank\n",
       "Name: JnlDesc, Length: 3961, dtype: object"
      ]
     },
     "execution_count": 143,
     "metadata": {},
     "output_type": "execute_result"
    }
   ],
   "source": [
    "#We now set the NA values as Blank\n",
    "journals['JnlDesc'].fillna('Blank')"
   ]
  },
  {
   "cell_type": "code",
   "execution_count": 145,
   "id": "fb76cf18-8d39-4e72-b184-d00931d9de3b",
   "metadata": {},
   "outputs": [
    {
     "data": {
      "text/plain": [
       "1020    30/06/2019 09:26\n",
       "1021    30/06/2019 09:26\n",
       "1022    30/06/2019 09:26\n",
       "1023    30/06/2019 09:26\n",
       "1024    31/01/2019 12:27\n",
       "1025    31/01/2019 12:27\n",
       "1026    31/01/2019 12:27\n",
       "1027                 NaN\n",
       "1028                 NaN\n",
       "1029                 NaN\n",
       "1030                 NaN\n",
       "1031                 NaN\n",
       "1032                 NaN\n",
       "1033                 NaN\n",
       "1034                 NaN\n",
       "1035                 NaN\n",
       "1036                 NaN\n",
       "1037                 NaN\n",
       "1038                 NaN\n",
       "1039                 NaN\n",
       "1040                 NaN\n",
       "1041                 NaN\n",
       "1042                 NaN\n",
       "1043                 NaN\n",
       "1044    30/06/2019 12:47\n",
       "1045    30/06/2019 12:47\n",
       "1046    30/06/2019 15:15\n",
       "1047    30/06/2019 15:15\n",
       "1048    30/06/2019 15:15\n",
       "1049    30/06/2019 15:15\n",
       "Name: JnlDateTime, dtype: object"
      ]
     },
     "execution_count": 145,
     "metadata": {},
     "output_type": "execute_result"
    }
   ],
   "source": [
    "journals['JnlDateTime'][1020:1050]"
   ]
  },
  {
   "cell_type": "code",
   "execution_count": 149,
   "id": "aa6f1407-346e-45a8-88ae-097ac67e288e",
   "metadata": {},
   "outputs": [
    {
     "name": "stderr",
     "output_type": "stream",
     "text": [
      "/var/folders/66/gwqqg3ms3hz63rft5zbg43700000gn/T/ipykernel_61689/47505799.py:1: FutureWarning: DataFrame.fillna with 'method' is deprecated and will raise in a future version. Use obj.ffill() or obj.bfill() instead.\n",
      "  journals.fillna(method = 'ffill', inplace = True)\n"
     ]
    }
   ],
   "source": [
    "journals.fillna(method = 'ffill', inplace = True)"
   ]
  },
  {
   "cell_type": "code",
   "execution_count": 151,
   "id": "46a25034-18f4-4754-aa92-8c057fcf9d08",
   "metadata": {},
   "outputs": [
    {
     "data": {
      "text/plain": [
       "1020    30/06/2019 09:26\n",
       "1021    30/06/2019 09:26\n",
       "1022    30/06/2019 09:26\n",
       "1023    30/06/2019 09:26\n",
       "1024    31/01/2019 12:27\n",
       "1025    31/01/2019 12:27\n",
       "1026    31/01/2019 12:27\n",
       "1027    31/01/2019 12:27\n",
       "1028    31/01/2019 12:27\n",
       "1029    31/01/2019 12:27\n",
       "1030    31/01/2019 12:27\n",
       "1031    31/01/2019 12:27\n",
       "1032    31/01/2019 12:27\n",
       "1033    31/01/2019 12:27\n",
       "1034    31/01/2019 12:27\n",
       "1035    31/01/2019 12:27\n",
       "1036    31/01/2019 12:27\n",
       "1037    31/01/2019 12:27\n",
       "1038    31/01/2019 12:27\n",
       "1039    31/01/2019 12:27\n",
       "1040    31/01/2019 12:27\n",
       "1041    31/01/2019 12:27\n",
       "1042    31/01/2019 12:27\n",
       "1043    31/01/2019 12:27\n",
       "1044    30/06/2019 12:47\n",
       "1045    30/06/2019 12:47\n",
       "1046    30/06/2019 15:15\n",
       "1047    30/06/2019 15:15\n",
       "1048    30/06/2019 15:15\n",
       "1049    30/06/2019 15:15\n",
       "Name: JnlDateTime, dtype: object"
      ]
     },
     "execution_count": 151,
     "metadata": {},
     "output_type": "execute_result"
    }
   ],
   "source": [
    "journals['JnlDateTime'][1020:1050]"
   ]
  },
  {
   "cell_type": "code",
   "execution_count": 154,
   "id": "722805fc-8aa0-4980-8352-19c7cb77a282",
   "metadata": {},
   "outputs": [
    {
     "name": "stdout",
     "output_type": "stream",
     "text": [
      "18\n"
     ]
    }
   ],
   "source": [
    "#Now for sales\n",
    "duplicates = sales.duplicated()\n",
    "duplicated_values = sales[duplicates].sort_values(by = 'Order ID')\n",
    "print(duplicated_values['Order ID'].count())"
   ]
  },
  {
   "cell_type": "code",
   "execution_count": null,
   "id": "25161c38-ca31-49f4-a5ec-1cfd73487d37",
   "metadata": {},
   "outputs": [],
   "source": []
  },
  {
   "cell_type": "code",
   "execution_count": null,
   "id": "e057f0f6-5a0b-4aad-a0fe-b071bc53a26a",
   "metadata": {},
   "outputs": [],
   "source": []
  },
  {
   "cell_type": "code",
   "execution_count": 160,
   "id": "79ba16ba-38b4-4196-a3cf-99d1a0d9761f",
   "metadata": {},
   "outputs": [],
   "source": [
    "sales.drop_duplicates(inplace = True)"
   ]
  },
  {
   "cell_type": "code",
   "execution_count": null,
   "id": "4e90de30-30fc-4321-a320-f38d64fd3695",
   "metadata": {},
   "outputs": [],
   "source": []
  },
  {
   "cell_type": "code",
   "execution_count": null,
   "id": "6871a15e-bf67-4871-9a7b-4a7d95271075",
   "metadata": {},
   "outputs": [],
   "source": []
  },
  {
   "cell_type": "code",
   "execution_count": 162,
   "id": "6861cff0-1d34-4ae7-aba4-0ad7b4c0b95e",
   "metadata": {},
   "outputs": [
    {
     "name": "stdout",
     "output_type": "stream",
     "text": [
      "0\n"
     ]
    }
   ],
   "source": [
    "#Now for sales\n",
    "duplicates = sales.duplicated()\n",
    "duplicated_values = sales[duplicates].sort_values(by = 'Order ID')\n",
    "print(duplicated_values['Order ID'].count())"
   ]
  },
  {
   "cell_type": "code",
   "execution_count": 164,
   "id": "f58a4541-aee2-4fd3-9a49-7d0c1060e8c4",
   "metadata": {},
   "outputs": [
    {
     "data": {
      "text/plain": [
       "Row ID                0\n",
       "Order ID              0\n",
       "Order Date            0\n",
       "Ship Date             0\n",
       "Ship Mode             0\n",
       "Customer ID           0\n",
       "Customer Name         0\n",
       "Segment              22\n",
       "Postal Code       41296\n",
       "City                  0\n",
       "State                 0\n",
       "Country               0\n",
       "Region                0\n",
       "Market               60\n",
       "Product ID            0\n",
       "Category              0\n",
       "Sub-Category          0\n",
       "Product Name          0\n",
       "Sales                 0\n",
       "Quantity              0\n",
       "Discount              0\n",
       "Profit                0\n",
       "Shipping Cost         0\n",
       "Order Priority        0\n",
       "dtype: int64"
      ]
     },
     "execution_count": 164,
     "metadata": {},
     "output_type": "execute_result"
    }
   ],
   "source": [
    "#it looks to be the postal code column with missing values but sum will work to check this\n",
    "sales.isna().sum()"
   ]
  },
  {
   "cell_type": "code",
   "execution_count": 166,
   "id": "b17ee921-0719-4b67-8643-161bc6397dc5",
   "metadata": {},
   "outputs": [],
   "source": [
    "#Now fill in NA with the string 'unkown'. For this to save ie permanently change the data, = MUST be used\n",
    "sales['Postal Code'] = sales['Postal Code'].fillna('Unkown')\n",
    "sales['Segment'] = sales['Segment'].fillna('Unkown')\n",
    "sales['Market'] = sales['Market'].fillna('Unkown')"
   ]
  },
  {
   "cell_type": "code",
   "execution_count": 168,
   "id": "d01015d6-431d-4691-8e2a-60f9ae1ca0bd",
   "metadata": {},
   "outputs": [
    {
     "data": {
      "text/plain": [
       "Row ID            0\n",
       "Order ID          0\n",
       "Order Date        0\n",
       "Ship Date         0\n",
       "Ship Mode         0\n",
       "Customer ID       0\n",
       "Customer Name     0\n",
       "Segment           0\n",
       "Postal Code       0\n",
       "City              0\n",
       "State             0\n",
       "Country           0\n",
       "Region            0\n",
       "Market            0\n",
       "Product ID        0\n",
       "Category          0\n",
       "Sub-Category      0\n",
       "Product Name      0\n",
       "Sales             0\n",
       "Quantity          0\n",
       "Discount          0\n",
       "Profit            0\n",
       "Shipping Cost     0\n",
       "Order Priority    0\n",
       "dtype: int64"
      ]
     },
     "execution_count": 168,
     "metadata": {},
     "output_type": "execute_result"
    }
   ],
   "source": [
    "sales.isna().sum()"
   ]
  },
  {
   "cell_type": "code",
   "execution_count": 174,
   "id": "8eaee396-54b1-40bd-be71-1955e241c0c0",
   "metadata": {},
   "outputs": [
    {
     "data": {
      "text/plain": [
       "(3961, 14)"
      ]
     },
     "execution_count": 174,
     "metadata": {},
     "output_type": "execute_result"
    }
   ],
   "source": [
    "journals.shape"
   ]
  },
  {
   "cell_type": "code",
   "execution_count": 176,
   "id": "b1c7d974-4bb7-4be6-8bd0-0d669752ffe3",
   "metadata": {},
   "outputs": [
    {
     "data": {
      "text/plain": [
       "(51290, 24)"
      ]
     },
     "execution_count": 176,
     "metadata": {},
     "output_type": "execute_result"
    }
   ],
   "source": [
    "sales.shape"
   ]
  },
  {
   "cell_type": "code",
   "execution_count": null,
   "id": "10828f71-773a-46a8-a52b-d5e021afe2d6",
   "metadata": {},
   "outputs": [],
   "source": []
  }
 ],
 "metadata": {
  "kernelspec": {
   "display_name": "Python [conda env:base] *",
   "language": "python",
   "name": "conda-base-py"
  },
  "language_info": {
   "codemirror_mode": {
    "name": "ipython",
    "version": 3
   },
   "file_extension": ".py",
   "mimetype": "text/x-python",
   "name": "python",
   "nbconvert_exporter": "python",
   "pygments_lexer": "ipython3",
   "version": "3.12.7"
  }
 },
 "nbformat": 4,
 "nbformat_minor": 5
}
