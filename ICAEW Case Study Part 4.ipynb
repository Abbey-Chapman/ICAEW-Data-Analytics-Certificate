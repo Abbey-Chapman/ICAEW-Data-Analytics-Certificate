{
 "cells": [
  {
   "cell_type": "markdown",
   "metadata": {},
   "source": [
    "# ICAEW Data Analytics Certificate Programme Case Study (Analyst pathway)\n",
    "## Decision making part 2"
   ]
  },
  {
   "cell_type": "markdown",
   "metadata": {},
   "source": [
    "Welcome back to the Case Study for the ICAEW Data Analytics Certificate Programme (Analyst pathway). \n",
    "\n",
    "We have examined the journal data through exploratory data analysis to gain a deeper understanding of the data already. Now we will use the skills we have learnt within Unit 4. \n"
   ]
  },
  {
   "cell_type": "markdown",
   "metadata": {},
   "source": [
    "We'll use the journals dataset provided. The structure of this notebook is as follows:\n",
    "\n",
    "- We will examine the control environment and identify any anomalies according to criteria. \n",
    "- We will identify local outliers using visual and statistical means.\n",
    "- We will identify any global outliers using unsupervised learning techniques.\n"
   ]
  },
  {
   "cell_type": "markdown",
   "metadata": {},
   "source": [
    "## Setting up the environment\n",
    "\n",
    "First, we will load our clean journals data as we have done previously."
   ]
  },
  {
   "cell_type": "code",
   "execution_count": 2,
   "metadata": {},
   "outputs": [],
   "source": [
    "# Import the required package\n",
    "import pandas as pd\n",
    "\n",
    "# Load clean journals data as journals\n",
    "journals = pd.read_excel('Journals2.xlsx')"
   ]
  },
  {
   "cell_type": "markdown",
   "metadata": {},
   "source": [
    "## Scrutinise the control environment\n",
    "\n",
    "A key area we have been told to consider when analysing the investment oppportunity is the control environment. This is an area where domain knowledge such as your understanding of key accounting processes and procedures can be used to supplement your analytical skills. In this section, we can investigate the controls in place within the organisation and can flag any journal entries that appear unusual.\n",
    "\n",
    "In particular, we know from our exploratory analysis that there appear to be a number of employees who can authorise and prepare journals. We may wish to examine if these employees have ever authorised and prepared the same journal entries and what amounts each employee has authorised.\n",
    "\n",
    "We looked at creating new conditional columns, filtering data and grouping data in Module 2 of Unit 3: Analysing the Data. If you purchased the learning and certificate Analyst Pathway, we recommend you revisit this content if you are struggling to complete these tasks.\n"
   ]
  },
  {
   "cell_type": "code",
   "execution_count": 8,
   "metadata": {},
   "outputs": [],
   "source": [
    "# Create a new column which evaluates if journal preparer is identical to journal authoriser and call this column AuthIsRaiser\n",
    "journals = journals.eval('AuthIsRaiser = JnlPrep == JnlAuth')\n",
    "journals['AuthIsRaiser'] = journals['AuthIsRaiser'].astype(int) \n"
   ]
  },
  {
   "cell_type": "code",
   "execution_count": 44,
   "metadata": {},
   "outputs": [
    {
     "name": "stdout",
     "output_type": "stream",
     "text": [
      "         Account                  AccountDesc TransDesc      Debit     Credit  \\\n",
      "414   00-80-8033  Provision for Sales Schemes       ZZX   61192.50       0.00   \n",
      "415   00-10-1002     Provisions - Trade Sales       XXX       0.00   61192.50   \n",
      "416   00-80-8033  Provision for Sales Schemes       ZZX  290889.34       0.00   \n",
      "417   00-10-1001    Trade Sale Recycle Scheme       ZZZ       0.00  290889.34   \n",
      "426   00-70-7026                    Bank Fees       684      26.22       0.00   \n",
      "...          ...                          ...       ...        ...        ...   \n",
      "3930  00-20-2011         Inventory Adjustment       622    4018.98       0.00   \n",
      "3931  00-80-8027            Other Stock Costs       ZZZ    7905.21       0.00   \n",
      "3932  00-20-2011         Inventory Adjustment       624       0.00    7905.21   \n",
      "3933  00-20-2011         Inventory Adjustment       626       0.00   16101.95   \n",
      "3934  00-80-8027            Other Stock Costs       ZZZ   16101.95       0.00   \n",
      "\n",
      "       Period  JnlNo                              JnlDesc     Amount JnlPrep  \\\n",
      "414    2019-4    152  Reverses Jnl 2019-3 Journal No. 106   61192.50    CH20   \n",
      "415    2019-4    152  Reverses Jnl 2019-3 Journal No. 106  -61192.50    CH20   \n",
      "416    2019-4    152  Reverses Jnl 2019-3 Journal No. 106  290889.34    CH20   \n",
      "417    2019-4    152  Reverses Jnl 2019-3 Journal No. 106 -290889.34    CH20   \n",
      "426    2019-4    154                                  NaN      26.22    CH20   \n",
      "...       ...    ...                                  ...        ...     ...   \n",
      "3930  2019-12    534                                  NaN    4018.98    AM04   \n",
      "3931  2019-12    534                                  NaN    7905.21    AM04   \n",
      "3932  2019-12    534                                  NaN   -7905.21    AM04   \n",
      "3933  2019-12    534                                  NaN  -16101.95    AM04   \n",
      "3934  2019-12    534                                  NaN   16101.95    AM04   \n",
      "\n",
      "     JnlAuth       JnlDateTime  JnlPreparerName JnlAuthoriserName  AbsAmount  \\\n",
      "414     CH20  30/04/2019 12:42    King Forkey       King Forkey     61192.50   \n",
      "415     CH20  30/04/2019 12:42    King Forkey       King Forkey     61192.50   \n",
      "416     CH20  30/04/2019 12:42    King Forkey       King Forkey    290889.34   \n",
      "417     CH20  30/04/2019 12:42    King Forkey       King Forkey    290889.34   \n",
      "426     CH20  30/04/2019 12:10    King Forkey       King Forkey        26.22   \n",
      "...      ...               ...              ...               ...        ...   \n",
      "3930    AM04  31/12/2019 07:22  Ray Johansson     Ray Johansson      4018.98   \n",
      "3931    AM04  31/12/2019 07:22  Ray Johansson     Ray Johansson      7905.21   \n",
      "3932    AM04  31/12/2019 07:22  Ray Johansson     Ray Johansson      7905.21   \n",
      "3933    AM04  31/12/2019 07:22  Ray Johansson     Ray Johansson     16101.95   \n",
      "3934    AM04  31/12/2019 07:22  Ray Johansson     Ray Johansson     16101.95   \n",
      "\n",
      "      AuthIsRaiser  \n",
      "414              1  \n",
      "415              1  \n",
      "416              1  \n",
      "417              1  \n",
      "426              1  \n",
      "...            ...  \n",
      "3930             1  \n",
      "3931             1  \n",
      "3932             1  \n",
      "3933             1  \n",
      "3934             1  \n",
      "\n",
      "[190 rows x 16 columns]\n"
     ]
    }
   ],
   "source": [
    "# Examine the journal entries which have the same authoriser and preparer\n",
    "jAP = journals.loc[journals['AuthIsRaiser'] != 0, :]\n",
    "print(jAP)"
   ]
  },
  {
   "cell_type": "markdown",
   "metadata": {},
   "source": [
    "The following is assessed in the assessment.\n",
    "\n",
    "We can create additional columns that test certain controls, such as if the Authoriser employee is the same as the Preparer employee. We can then filter the data for the case when this is True and then examine the number of employees."
   ]
  },
  {
   "cell_type": "code",
   "execution_count": 57,
   "metadata": {},
   "outputs": [
    {
     "data": {
      "text/plain": [
       "array(['King Forkey \\xa0', 'Ray Johansson \\xa0', 'Jonelle Moseley \\xa0'],\n",
       "      dtype=object)"
      ]
     },
     "execution_count": 57,
     "metadata": {},
     "output_type": "execute_result"
    }
   ],
   "source": [
    "# Examine the employees who have both authorised and prepared the same journals\n",
    "jAP['JnlPreparerName'].unique()"
   ]
  },
  {
   "cell_type": "markdown",
   "metadata": {},
   "source": [
    "##### <b>Please take a note of the number of employees who have authorised and prepared the same journal entry.</b>"
   ]
  },
  {
   "cell_type": "markdown",
   "metadata": {},
   "source": [
    "<i>Select here to type your answer: 3"
   ]
  },
  {
   "cell_type": "markdown",
   "metadata": {},
   "source": [
    "Now let's consider the amount each employee has authorised and whether this is in line with our expectations according to the delegation of authority matrix. "
   ]
  },
  {
   "cell_type": "markdown",
   "metadata": {},
   "source": [
    "The following is assessed in the assessment.\n",
    "\n",
    "We can examine if journal postings have been created in line with the delegation of authority matrix by using the business knowledge and context provided in the information prior to our analysis. "
   ]
  },
  {
   "cell_type": "code",
   "execution_count": 60,
   "metadata": {},
   "outputs": [
    {
     "data": {
      "text/plain": [
       "JnlAuthoriserName\n",
       "Johnny Hevey          888587.21\n",
       "Jonelle Moseley       889896.65\n",
       "King Forkey           997226.63\n",
       "Lizbeth Arvin         887744.75\n",
       "Maye Ahl              894362.91\n",
       "Ray Johansson        1065322.15\n",
       "Name: AbsAmount, dtype: float64"
      ]
     },
     "execution_count": 60,
     "metadata": {},
     "output_type": "execute_result"
    }
   ],
   "source": [
    "# Group by Authoriser name and examine the maximum absolute amount authorised\n",
    "journals.groupby(['JnlAuthoriserName'])['AbsAmount'].max()\n"
   ]
  },
  {
   "cell_type": "code",
   "execution_count": 64,
   "metadata": {},
   "outputs": [
    {
     "data": {
      "text/plain": [
       "JnlPreparerName\n",
       "Evalyn Reddout           894260.65\n",
       "Jon Mckinley             931222.48\n",
       "Jonelle Moseley          885729.38\n",
       "King Forkey              887749.65\n",
       "Lakeisha Testerman       886534.71\n",
       "Latasha Terpstra         599069.15\n",
       "Lorelei Ory              887906.97\n",
       "Merrill Benzel          1065322.15\n",
       "Nellie Pease             893951.34\n",
       "Ray Johansson            997226.63\n",
       "Name: AbsAmount, dtype: float64"
      ]
     },
     "execution_count": 64,
     "metadata": {},
     "output_type": "execute_result"
    }
   ],
   "source": [
    "# Group by Preparer name and examine the maximum absolute amount prepared\n",
    "journals.groupby(['JnlPreparerName'])['AbsAmount'].max()\n"
   ]
  },
  {
   "cell_type": "markdown",
   "metadata": {},
   "source": [
    "##### <b>Please take a note of whether there are anomalous journal entries in regards to the delegation of authority matrix.</b>"
   ]
  },
  {
   "cell_type": "markdown",
   "metadata": {},
   "source": [
    "<i>Select here to type your answer: Ray Johansson is a fixed asset accountant and shouldn't approve journals over £1m"
   ]
  },
  {
   "cell_type": "markdown",
   "metadata": {},
   "source": [
    "## Identifying local anomalies\n",
    "\n",
    "In this course, we have examined multiple techniques for identifying local anomalies, i.e. anomalies across one field or columns only. Using these techniques, both visual and statistical, we will identify any anomalous journal entries based on when the journals were posted and the amount.\n"
   ]
  },
  {
   "cell_type": "markdown",
   "metadata": {},
   "source": [
    "\n",
    "We have examined the identification of statistical anomalies and using visualisations in the anomaly detection section in Module 2 of Unit 4: Decision Making. If you purchased the learning and certificate Analyst Pathway, we recommend you revisit this content if you are struggling to complete these tasks."
   ]
  },
  {
   "cell_type": "code",
   "execution_count": 67,
   "metadata": {},
   "outputs": [],
   "source": [
    "# Import the required package\n",
    "import datetime as dt\n",
    "\n",
    "# Set the journal date time column to correct format\n",
    "journals['JnlDateTime'] = pd.to_datetime(journals['JnlDateTime'], format = '%d/%m/%Y %H:%M')\n",
    "\n",
    "# Create a column containing the hour when journal was posted called JnlTime\n",
    "journals['JnlHour'] = journals['JnlDateTime'].dt.hour "
   ]
  },
  {
   "cell_type": "code",
   "execution_count": 70,
   "metadata": {},
   "outputs": [],
   "source": [
    "# Import visualisation packages\n",
    "import numpy as np\n",
    "import seaborn as sns\n",
    "import matplotlib.pyplot as plt"
   ]
  },
  {
   "cell_type": "markdown",
   "metadata": {},
   "source": [
    "The following is assessed in the assessment.\n",
    "\n",
    "Visualisations such as boxplots can be created using the Seaborn package. We will need to create an additional column in our dataset for the hour the journal was posted."
   ]
  },
  {
   "cell_type": "code",
   "execution_count": 73,
   "metadata": {},
   "outputs": [
    {
     "data": {
      "image/png": "[encoded data removed]",
      "text/plain": [
       "<Figure size 640x480 with 1 Axes>"
      ]
     },
     "metadata": {},
     "output_type": "display_data"
    }
   ],
   "source": [
    "# Create a boxplot of the hour the journal was posted\n",
    "sns.boxplot(x = 'JnlHour', data = journals)\n",
    "plt.title('Box Chart of Hour at which journals have been posted')\n",
    "plt.show()"
   ]
  },
  {
   "cell_type": "markdown",
   "metadata": {},
   "source": [
    "##### <b>Please take a note of whether there are anomalous journal entries in regards to the time they were posted.</b>"
   ]
  },
  {
   "cell_type": "markdown",
   "metadata": {},
   "source": [
    "<i>Select here to type your answer: Yes, one posted at midnight, also some others late at night"
   ]
  },
  {
   "cell_type": "code",
   "execution_count": 78,
   "metadata": {},
   "outputs": [],
   "source": [
    "# Import zscore from scipy.stats\n",
    "from scipy.stats import zscore\n",
    "\n",
    "# Create a column with the zscore of Amount called zAmount\n",
    "journals['ZAmount'] = zscore(journals['Amount'])"
   ]
  },
  {
   "cell_type": "markdown",
   "metadata": {},
   "source": [
    "The following is assessed in the assessment.\n",
    "\n",
    "Visualisations such as histograms can be created using the Seaborn package. We will need to create an additional column in our dataset for the z score of the amount."
   ]
  },
  {
   "cell_type": "code",
   "execution_count": 81,
   "metadata": {},
   "outputs": [
    {
     "data": {
      "text/plain": [
       "<seaborn.axisgrid.FacetGrid at 0x13744ddc0>"
      ]
     },
     "execution_count": 81,
     "metadata": {},
     "output_type": "execute_result"
    },
    {
     "data": {
      "image/png": "[encoded data removed]",
      "text/plain": [
       "<Figure size 500x500 with 1 Axes>"
      ]
     },
     "metadata": {},
     "output_type": "display_data"
    }
   ],
   "source": [
    "# Create a histogram of zAmount\n",
    "sns.displot(journals['ZAmount'], binwidth = 1)"
   ]
  },
  {
   "cell_type": "markdown",
   "metadata": {},
   "source": [
    "##### <b>Please take a note of whether there are anomalous journal entries in regards to the journal amount.</b>"
   ]
  },
  {
   "cell_type": "markdown",
   "metadata": {},
   "source": [
    "<i>Select here to type your answer: Yes, amounts with z-score over abs(3) are deemed outliers as are too far from the mean"
   ]
  },
  {
   "cell_type": "markdown",
   "metadata": {},
   "source": [
    "## Anomaly detection by unsupervised learning techniques\n",
    "\n",
    "We've examined anomalies based on one field or criteria. Now we want to identify global anomalies, i.e. journal entries that are anomalous overall. Using techniques learnt in the course, we will flag any journal entries that appear anomalous across multiple fields. \n",
    "\n",
    "To do this we will use the previous wrangling script provided and load the wrangled data into this Notebook by switching the kernel to our wrangling Notebook as we have done previously."
   ]
  },
  {
   "cell_type": "code",
   "execution_count": 64,
   "metadata": {},
   "outputs": [
    {
     "data": {
      "text/html": [
       "<div>\n",
       "<style scoped>\n",
       "    .dataframe tbody tr th:only-of-type {\n",
       "        vertical-align: middle;\n",
       "    }\n",
       "\n",
       "    .dataframe tbody tr th {\n",
       "        vertical-align: top;\n",
       "    }\n",
       "\n",
       "    .dataframe thead th {\n",
       "        text-align: right;\n",
       "    }\n",
       "</style>\n",
       "<table border=\"1\" class=\"dataframe\">\n",
       "  <thead>\n",
       "    <tr style=\"text-align: right;\">\n",
       "      <th></th>\n",
       "      <th>AbsAmount</th>\n",
       "      <th>NTrans</th>\n",
       "      <th>DoM</th>\n",
       "      <th>JnlTimeN</th>\n",
       "      <th>TotScore</th>\n",
       "    </tr>\n",
       "    <tr>\n",
       "      <th>JnlNo</th>\n",
       "      <th></th>\n",
       "      <th></th>\n",
       "      <th></th>\n",
       "      <th></th>\n",
       "      <th></th>\n",
       "    </tr>\n",
       "  </thead>\n",
       "  <tbody>\n",
       "    <tr>\n",
       "      <th>1</th>\n",
       "      <td>300859.89</td>\n",
       "      <td>4</td>\n",
       "      <td>1</td>\n",
       "      <td>13.07</td>\n",
       "      <td>1</td>\n",
       "    </tr>\n",
       "    <tr>\n",
       "      <th>10</th>\n",
       "      <td>12848.50</td>\n",
       "      <td>2</td>\n",
       "      <td>30</td>\n",
       "      <td>9.93</td>\n",
       "      <td>0</td>\n",
       "    </tr>\n",
       "    <tr>\n",
       "      <th>100</th>\n",
       "      <td>24839.41</td>\n",
       "      <td>2</td>\n",
       "      <td>30</td>\n",
       "      <td>16.92</td>\n",
       "      <td>1</td>\n",
       "    </tr>\n",
       "    <tr>\n",
       "      <th>101</th>\n",
       "      <td>22257.21</td>\n",
       "      <td>6</td>\n",
       "      <td>30</td>\n",
       "      <td>10.98</td>\n",
       "      <td>2</td>\n",
       "    </tr>\n",
       "    <tr>\n",
       "      <th>102</th>\n",
       "      <td>785539.06</td>\n",
       "      <td>4</td>\n",
       "      <td>30</td>\n",
       "      <td>9.38</td>\n",
       "      <td>1</td>\n",
       "    </tr>\n",
       "  </tbody>\n",
       "</table>\n",
       "</div>"
      ],
      "text/plain": [
       "       AbsAmount  NTrans  DoM  JnlTimeN  TotScore\n",
       "JnlNo                                            \n",
       "1      300859.89       4    1     13.07         1\n",
       "10      12848.50       2   30      9.93         0\n",
       "100     24839.41       2   30     16.92         1\n",
       "101     22257.21       6   30     10.98         2\n",
       "102    785539.06       4   30      9.38         1"
      ]
     },
     "execution_count": 64,
     "metadata": {},
     "output_type": "execute_result"
    }
   ],
   "source": [
    "# Import the data into the wrangling script\n",
    "\n",
    "# Run the wrangling script \n",
    "\n",
    "# Change the kernel of this Notebook to the wrangling script\n",
    "\n",
    "# Examine the journalsprePCA \n",
    "journalsprePCA.head()"
   ]
  },
  {
   "cell_type": "markdown",
   "metadata": {},
   "source": [
    "## Principal Component Analysis\n",
    "\n",
    "Now our data has been wrangled for analysis, we will first perform Principal Component Analysis in order to allow us to examine variation across multiple fields. We will transform our data from the current fields into Principal Components that will use data from across various fields to explain the variation in our dataset.\n",
    "\n",
    "We can see how much variation these Principal Components explain as well as identifying which fields are incorporated into each Principal Component.\n",
    "\n",
    "We covered using unsupervised learning techniques such as Principal Component Analysis to identify anomalies in the anomaly detection section in Module 2 of Unit 4: Decision Making. If you purchased the learning and certificate Analyst Pathway, we recommend you revisit this content if you are struggling to complete these tasks."
   ]
  },
  {
   "cell_type": "code",
   "execution_count": 74,
   "metadata": {},
   "outputs": [],
   "source": [
    "# Import the required packages\n",
    "from sklearn.decomposition import PCA\n",
    "from sklearn.preprocessing import StandardScaler\n",
    "from sklearn.pipeline import make_pipeline"
   ]
  },
  {
   "cell_type": "code",
   "execution_count": 76,
   "metadata": {},
   "outputs": [],
   "source": [
    "# Call the StandardScaler command scaler\n",
    "scaler = StandardScaler()\n",
    "\n",
    "# Call the PCA command pca \n",
    "pca = PCA()\n",
    "\n",
    "# Make a pipleline of scaler and PCA called pipeline\n",
    "pipeline = make_pipeline(scaler, pca)"
   ]
  },
  {
   "cell_type": "code",
   "execution_count": 79,
   "metadata": {},
   "outputs": [
    {
     "data": {
      "text/html": [
       "<style>#sk-container-id-1 {\n",
       "  /* Definition of color scheme common for light and dark mode */\n",
       "  --sklearn-color-text: black;\n",
       "  --sklearn-color-line: gray;\n",
       "  /* Definition of color scheme for unfitted estimators */\n",
       "  --sklearn-color-unfitted-level-0: #fff5e6;\n",
       "  --sklearn-color-unfitted-level-1: #f6e4d2;\n",
       "  --sklearn-color-unfitted-level-2: #ffe0b3;\n",
       "  --sklearn-color-unfitted-level-3: chocolate;\n",
       "  /* Definition of color scheme for fitted estimators */\n",
       "  --sklearn-color-fitted-level-0: #f0f8ff;\n",
       "  --sklearn-color-fitted-level-1: #d4ebff;\n",
       "  --sklearn-color-fitted-level-2: #b3dbfd;\n",
       "  --sklearn-color-fitted-level-3: cornflowerblue;\n",
       "\n",
       "  /* Specific color for light theme */\n",
       "  --sklearn-color-text-on-default-background: var(--sg-text-color, var(--theme-code-foreground, var(--jp-content-font-color1, black)));\n",
       "  --sklearn-color-background: var(--sg-background-color, var(--theme-background, var(--jp-layout-color0, white)));\n",
       "  --sklearn-color-border-box: var(--sg-text-color, var(--theme-code-foreground, var(--jp-content-font-color1, black)));\n",
       "  --sklearn-color-icon: #696969;\n",
       "\n",
       "  @media (prefers-color-scheme: dark) {\n",
       "    /* Redefinition of color scheme for dark theme */\n",
       "    --sklearn-color-text-on-default-background: var(--sg-text-color, var(--theme-code-foreground, var(--jp-content-font-color1, white)));\n",
       "    --sklearn-color-background: var(--sg-background-color, var(--theme-background, var(--jp-layout-color0, #111)));\n",
       "    --sklearn-color-border-box: var(--sg-text-color, var(--theme-code-foreground, var(--jp-content-font-color1, white)));\n",
       "    --sklearn-color-icon: #878787;\n",
       "  }\n",
       "}\n",
       "\n",
       "#sk-container-id-1 {\n",
       "  color: var(--sklearn-color-text);\n",
       "}\n",
       "\n",
       "#sk-container-id-1 pre {\n",
       "  padding: 0;\n",
       "}\n",
       "\n",
       "#sk-container-id-1 input.sk-hidden--visually {\n",
       "  border: 0;\n",
       "  clip: rect(1px 1px 1px 1px);\n",
       "  clip: rect(1px, 1px, 1px, 1px);\n",
       "  height: 1px;\n",
       "  margin: -1px;\n",
       "  overflow: hidden;\n",
       "  padding: 0;\n",
       "  position: absolute;\n",
       "  width: 1px;\n",
       "}\n",
       "\n",
       "#sk-container-id-1 div.sk-dashed-wrapped {\n",
       "  border: 1px dashed var(--sklearn-color-line);\n",
       "  margin: 0 0.4em 0.5em 0.4em;\n",
       "  box-sizing: border-box;\n",
       "  padding-bottom: 0.4em;\n",
       "  background-color: var(--sklearn-color-background);\n",
       "}\n",
       "\n",
       "#sk-container-id-1 div.sk-container {\n",
       "  /* jupyter's `normalize.less` sets `[hidden] { display: none; }`\n",
       "     but bootstrap.min.css set `[hidden] { display: none !important; }`\n",
       "     so we also need the `!important` here to be able to override the\n",
       "     default hidden behavior on the sphinx rendered scikit-learn.org.\n",
       "     See: https://github.com/scikit-learn/scikit-learn/issues/21755 */\n",
       "  display: inline-block !important;\n",
       "  position: relative;\n",
       "}\n",
       "\n",
       "#sk-container-id-1 div.sk-text-repr-fallback {\n",
       "  display: none;\n",
       "}\n",
       "\n",
       "div.sk-parallel-item,\n",
       "div.sk-serial,\n",
       "div.sk-item {\n",
       "  /* draw centered vertical line to link estimators */\n",
       "  background-image: linear-gradient(var(--sklearn-color-text-on-default-background), var(--sklearn-color-text-on-default-background));\n",
       "  background-size: 2px 100%;\n",
       "  background-repeat: no-repeat;\n",
       "  background-position: center center;\n",
       "}\n",
       "\n",
       "/* Parallel-specific style estimator block */\n",
       "\n",
       "#sk-container-id-1 div.sk-parallel-item::after {\n",
       "  content: \"\";\n",
       "  width: 100%;\n",
       "  border-bottom: 2px solid var(--sklearn-color-text-on-default-background);\n",
       "  flex-grow: 1;\n",
       "}\n",
       "\n",
       "#sk-container-id-1 div.sk-parallel {\n",
       "  display: flex;\n",
       "  align-items: stretch;\n",
       "  justify-content: center;\n",
       "  background-color: var(--sklearn-color-background);\n",
       "  position: relative;\n",
       "}\n",
       "\n",
       "#sk-container-id-1 div.sk-parallel-item {\n",
       "  display: flex;\n",
       "  flex-direction: column;\n",
       "}\n",
       "\n",
       "#sk-container-id-1 div.sk-parallel-item:first-child::after {\n",
       "  align-self: flex-end;\n",
       "  width: 50%;\n",
       "}\n",
       "\n",
       "#sk-container-id-1 div.sk-parallel-item:last-child::after {\n",
       "  align-self: flex-start;\n",
       "  width: 50%;\n",
       "}\n",
       "\n",
       "#sk-container-id-1 div.sk-parallel-item:only-child::after {\n",
       "  width: 0;\n",
       "}\n",
       "\n",
       "/* Serial-specific style estimator block */\n",
       "\n",
       "#sk-container-id-1 div.sk-serial {\n",
       "  display: flex;\n",
       "  flex-direction: column;\n",
       "  align-items: center;\n",
       "  background-color: var(--sklearn-color-background);\n",
       "  padding-right: 1em;\n",
       "  padding-left: 1em;\n",
       "}\n",
       "\n",
       "\n",
       "/* Toggleable style: style used for estimator/Pipeline/ColumnTransformer box that is\n",
       "clickable and can be expanded/collapsed.\n",
       "- Pipeline and ColumnTransformer use this feature and define the default style\n",
       "- Estimators will overwrite some part of the style using the `sk-estimator` class\n",
       "*/\n",
       "\n",
       "/* Pipeline and ColumnTransformer style (default) */\n",
       "\n",
       "#sk-container-id-1 div.sk-toggleable {\n",
       "  /* Default theme specific background. It is overwritten whether we have a\n",
       "  specific estimator or a Pipeline/ColumnTransformer */\n",
       "  background-color: var(--sklearn-color-background);\n",
       "}\n",
       "\n",
       "/* Toggleable label */\n",
       "#sk-container-id-1 label.sk-toggleable__label {\n",
       "  cursor: pointer;\n",
       "  display: block;\n",
       "  width: 100%;\n",
       "  margin-bottom: 0;\n",
       "  padding: 0.5em;\n",
       "  box-sizing: border-box;\n",
       "  text-align: center;\n",
       "}\n",
       "\n",
       "#sk-container-id-1 label.sk-toggleable__label-arrow:before {\n",
       "  /* Arrow on the left of the label */\n",
       "  content: \"▸\";\n",
       "  float: left;\n",
       "  margin-right: 0.25em;\n",
       "  color: var(--sklearn-color-icon);\n",
       "}\n",
       "\n",
       "#sk-container-id-1 label.sk-toggleable__label-arrow:hover:before {\n",
       "  color: var(--sklearn-color-text);\n",
       "}\n",
       "\n",
       "/* Toggleable content - dropdown */\n",
       "\n",
       "#sk-container-id-1 div.sk-toggleable__content {\n",
       "  max-height: 0;\n",
       "  max-width: 0;\n",
       "  overflow: hidden;\n",
       "  text-align: left;\n",
       "  /* unfitted */\n",
       "  background-color: var(--sklearn-color-unfitted-level-0);\n",
       "}\n",
       "\n",
       "#sk-container-id-1 div.sk-toggleable__content.fitted {\n",
       "  /* fitted */\n",
       "  background-color: var(--sklearn-color-fitted-level-0);\n",
       "}\n",
       "\n",
       "#sk-container-id-1 div.sk-toggleable__content pre {\n",
       "  margin: 0.2em;\n",
       "  border-radius: 0.25em;\n",
       "  color: var(--sklearn-color-text);\n",
       "  /* unfitted */\n",
       "  background-color: var(--sklearn-color-unfitted-level-0);\n",
       "}\n",
       "\n",
       "#sk-container-id-1 div.sk-toggleable__content.fitted pre {\n",
       "  /* unfitted */\n",
       "  background-color: var(--sklearn-color-fitted-level-0);\n",
       "}\n",
       "\n",
       "#sk-container-id-1 input.sk-toggleable__control:checked~div.sk-toggleable__content {\n",
       "  /* Expand drop-down */\n",
       "  max-height: 200px;\n",
       "  max-width: 100%;\n",
       "  overflow: auto;\n",
       "}\n",
       "\n",
       "#sk-container-id-1 input.sk-toggleable__control:checked~label.sk-toggleable__label-arrow:before {\n",
       "  content: \"▾\";\n",
       "}\n",
       "\n",
       "/* Pipeline/ColumnTransformer-specific style */\n",
       "\n",
       "#sk-container-id-1 div.sk-label input.sk-toggleable__control:checked~label.sk-toggleable__label {\n",
       "  color: var(--sklearn-color-text);\n",
       "  background-color: var(--sklearn-color-unfitted-level-2);\n",
       "}\n",
       "\n",
       "#sk-container-id-1 div.sk-label.fitted input.sk-toggleable__control:checked~label.sk-toggleable__label {\n",
       "  background-color: var(--sklearn-color-fitted-level-2);\n",
       "}\n",
       "\n",
       "/* Estimator-specific style */\n",
       "\n",
       "/* Colorize estimator box */\n",
       "#sk-container-id-1 div.sk-estimator input.sk-toggleable__control:checked~label.sk-toggleable__label {\n",
       "  /* unfitted */\n",
       "  background-color: var(--sklearn-color-unfitted-level-2);\n",
       "}\n",
       "\n",
       "#sk-container-id-1 div.sk-estimator.fitted input.sk-toggleable__control:checked~label.sk-toggleable__label {\n",
       "  /* fitted */\n",
       "  background-color: var(--sklearn-color-fitted-level-2);\n",
       "}\n",
       "\n",
       "#sk-container-id-1 div.sk-label label.sk-toggleable__label,\n",
       "#sk-container-id-1 div.sk-label label {\n",
       "  /* The background is the default theme color */\n",
       "  color: var(--sklearn-color-text-on-default-background);\n",
       "}\n",
       "\n",
       "/* On hover, darken the color of the background */\n",
       "#sk-container-id-1 div.sk-label:hover label.sk-toggleable__label {\n",
       "  color: var(--sklearn-color-text);\n",
       "  background-color: var(--sklearn-color-unfitted-level-2);\n",
       "}\n",
       "\n",
       "/* Label box, darken color on hover, fitted */\n",
       "#sk-container-id-1 div.sk-label.fitted:hover label.sk-toggleable__label.fitted {\n",
       "  color: var(--sklearn-color-text);\n",
       "  background-color: var(--sklearn-color-fitted-level-2);\n",
       "}\n",
       "\n",
       "/* Estimator label */\n",
       "\n",
       "#sk-container-id-1 div.sk-label label {\n",
       "  font-family: monospace;\n",
       "  font-weight: bold;\n",
       "  display: inline-block;\n",
       "  line-height: 1.2em;\n",
       "}\n",
       "\n",
       "#sk-container-id-1 div.sk-label-container {\n",
       "  text-align: center;\n",
       "}\n",
       "\n",
       "/* Estimator-specific */\n",
       "#sk-container-id-1 div.sk-estimator {\n",
       "  font-family: monospace;\n",
       "  border: 1px dotted var(--sklearn-color-border-box);\n",
       "  border-radius: 0.25em;\n",
       "  box-sizing: border-box;\n",
       "  margin-bottom: 0.5em;\n",
       "  /* unfitted */\n",
       "  background-color: var(--sklearn-color-unfitted-level-0);\n",
       "}\n",
       "\n",
       "#sk-container-id-1 div.sk-estimator.fitted {\n",
       "  /* fitted */\n",
       "  background-color: var(--sklearn-color-fitted-level-0);\n",
       "}\n",
       "\n",
       "/* on hover */\n",
       "#sk-container-id-1 div.sk-estimator:hover {\n",
       "  /* unfitted */\n",
       "  background-color: var(--sklearn-color-unfitted-level-2);\n",
       "}\n",
       "\n",
       "#sk-container-id-1 div.sk-estimator.fitted:hover {\n",
       "  /* fitted */\n",
       "  background-color: var(--sklearn-color-fitted-level-2);\n",
       "}\n",
       "\n",
       "/* Specification for estimator info (e.g. \"i\" and \"?\") */\n",
       "\n",
       "/* Common style for \"i\" and \"?\" */\n",
       "\n",
       ".sk-estimator-doc-link,\n",
       "a:link.sk-estimator-doc-link,\n",
       "a:visited.sk-estimator-doc-link {\n",
       "  float: right;\n",
       "  font-size: smaller;\n",
       "  line-height: 1em;\n",
       "  font-family: monospace;\n",
       "  background-color: var(--sklearn-color-background);\n",
       "  border-radius: 1em;\n",
       "  height: 1em;\n",
       "  width: 1em;\n",
       "  text-decoration: none !important;\n",
       "  margin-left: 1ex;\n",
       "  /* unfitted */\n",
       "  border: var(--sklearn-color-unfitted-level-1) 1pt solid;\n",
       "  color: var(--sklearn-color-unfitted-level-1);\n",
       "}\n",
       "\n",
       ".sk-estimator-doc-link.fitted,\n",
       "a:link.sk-estimator-doc-link.fitted,\n",
       "a:visited.sk-estimator-doc-link.fitted {\n",
       "  /* fitted */\n",
       "  border: var(--sklearn-color-fitted-level-1) 1pt solid;\n",
       "  color: var(--sklearn-color-fitted-level-1);\n",
       "}\n",
       "\n",
       "/* On hover */\n",
       "div.sk-estimator:hover .sk-estimator-doc-link:hover,\n",
       ".sk-estimator-doc-link:hover,\n",
       "div.sk-label-container:hover .sk-estimator-doc-link:hover,\n",
       ".sk-estimator-doc-link:hover {\n",
       "  /* unfitted */\n",
       "  background-color: var(--sklearn-color-unfitted-level-3);\n",
       "  color: var(--sklearn-color-background);\n",
       "  text-decoration: none;\n",
       "}\n",
       "\n",
       "div.sk-estimator.fitted:hover .sk-estimator-doc-link.fitted:hover,\n",
       ".sk-estimator-doc-link.fitted:hover,\n",
       "div.sk-label-container:hover .sk-estimator-doc-link.fitted:hover,\n",
       ".sk-estimator-doc-link.fitted:hover {\n",
       "  /* fitted */\n",
       "  background-color: var(--sklearn-color-fitted-level-3);\n",
       "  color: var(--sklearn-color-background);\n",
       "  text-decoration: none;\n",
       "}\n",
       "\n",
       "/* Span, style for the box shown on hovering the info icon */\n",
       ".sk-estimator-doc-link span {\n",
       "  display: none;\n",
       "  z-index: 9999;\n",
       "  position: relative;\n",
       "  font-weight: normal;\n",
       "  right: .2ex;\n",
       "  padding: .5ex;\n",
       "  margin: .5ex;\n",
       "  width: min-content;\n",
       "  min-width: 20ex;\n",
       "  max-width: 50ex;\n",
       "  color: var(--sklearn-color-text);\n",
       "  box-shadow: 2pt 2pt 4pt #999;\n",
       "  /* unfitted */\n",
       "  background: var(--sklearn-color-unfitted-level-0);\n",
       "  border: .5pt solid var(--sklearn-color-unfitted-level-3);\n",
       "}\n",
       "\n",
       ".sk-estimator-doc-link.fitted span {\n",
       "  /* fitted */\n",
       "  background: var(--sklearn-color-fitted-level-0);\n",
       "  border: var(--sklearn-color-fitted-level-3);\n",
       "}\n",
       "\n",
       ".sk-estimator-doc-link:hover span {\n",
       "  display: block;\n",
       "}\n",
       "\n",
       "/* \"?\"-specific style due to the `<a>` HTML tag */\n",
       "\n",
       "#sk-container-id-1 a.estimator_doc_link {\n",
       "  float: right;\n",
       "  font-size: 1rem;\n",
       "  line-height: 1em;\n",
       "  font-family: monospace;\n",
       "  background-color: var(--sklearn-color-background);\n",
       "  border-radius: 1rem;\n",
       "  height: 1rem;\n",
       "  width: 1rem;\n",
       "  text-decoration: none;\n",
       "  /* unfitted */\n",
       "  color: var(--sklearn-color-unfitted-level-1);\n",
       "  border: var(--sklearn-color-unfitted-level-1) 1pt solid;\n",
       "}\n",
       "\n",
       "#sk-container-id-1 a.estimator_doc_link.fitted {\n",
       "  /* fitted */\n",
       "  border: var(--sklearn-color-fitted-level-1) 1pt solid;\n",
       "  color: var(--sklearn-color-fitted-level-1);\n",
       "}\n",
       "\n",
       "/* On hover */\n",
       "#sk-container-id-1 a.estimator_doc_link:hover {\n",
       "  /* unfitted */\n",
       "  background-color: var(--sklearn-color-unfitted-level-3);\n",
       "  color: var(--sklearn-color-background);\n",
       "  text-decoration: none;\n",
       "}\n",
       "\n",
       "#sk-container-id-1 a.estimator_doc_link.fitted:hover {\n",
       "  /* fitted */\n",
       "  background-color: var(--sklearn-color-fitted-level-3);\n",
       "}\n",
       "</style><div id=\"sk-container-id-1\" class=\"sk-top-container\"><div class=\"sk-text-repr-fallback\"><pre>Pipeline(steps=[(&#x27;standardscaler&#x27;, StandardScaler()), (&#x27;pca&#x27;, PCA())])</pre><b>In a Jupyter environment, please rerun this cell to show the HTML representation or trust the notebook. <br />On GitHub, the HTML representation is unable to render, please try loading this page with nbviewer.org.</b></div><div class=\"sk-container\" hidden><div class=\"sk-item sk-dashed-wrapped\"><div class=\"sk-label-container\"><div class=\"sk-label fitted sk-toggleable\"><input class=\"sk-toggleable__control sk-hidden--visually\" id=\"sk-estimator-id-1\" type=\"checkbox\" ><label for=\"sk-estimator-id-1\" class=\"sk-toggleable__label fitted sk-toggleable__label-arrow fitted\">&nbsp;&nbsp;Pipeline<a class=\"sk-estimator-doc-link fitted\" rel=\"noreferrer\" target=\"_blank\" href=\"https://scikit-learn.org/1.5/modules/generated/sklearn.pipeline.Pipeline.html\">?<span>Documentation for Pipeline</span></a><span class=\"sk-estimator-doc-link fitted\">i<span>Fitted</span></span></label><div class=\"sk-toggleable__content fitted\"><pre>Pipeline(steps=[(&#x27;standardscaler&#x27;, StandardScaler()), (&#x27;pca&#x27;, PCA())])</pre></div> </div></div><div class=\"sk-serial\"><div class=\"sk-item\"><div class=\"sk-estimator fitted sk-toggleable\"><input class=\"sk-toggleable__control sk-hidden--visually\" id=\"sk-estimator-id-2\" type=\"checkbox\" ><label for=\"sk-estimator-id-2\" class=\"sk-toggleable__label fitted sk-toggleable__label-arrow fitted\">&nbsp;StandardScaler<a class=\"sk-estimator-doc-link fitted\" rel=\"noreferrer\" target=\"_blank\" href=\"https://scikit-learn.org/1.5/modules/generated/sklearn.preprocessing.StandardScaler.html\">?<span>Documentation for StandardScaler</span></a></label><div class=\"sk-toggleable__content fitted\"><pre>StandardScaler()</pre></div> </div></div><div class=\"sk-item\"><div class=\"sk-estimator fitted sk-toggleable\"><input class=\"sk-toggleable__control sk-hidden--visually\" id=\"sk-estimator-id-3\" type=\"checkbox\" ><label for=\"sk-estimator-id-3\" class=\"sk-toggleable__label fitted sk-toggleable__label-arrow fitted\">&nbsp;PCA<a class=\"sk-estimator-doc-link fitted\" rel=\"noreferrer\" target=\"_blank\" href=\"https://scikit-learn.org/1.5/modules/generated/sklearn.decomposition.PCA.html\">?<span>Documentation for PCA</span></a></label><div class=\"sk-toggleable__content fitted\"><pre>PCA()</pre></div> </div></div></div></div></div></div>"
      ],
      "text/plain": [
       "Pipeline(steps=[('standardscaler', StandardScaler()), ('pca', PCA())])"
      ]
     },
     "execution_count": 79,
     "metadata": {},
     "output_type": "execute_result"
    }
   ],
   "source": [
    "# Fit the pipeline to the journalsprePCA dataset\n",
    "pipeline.fit(journalsprePCA)\n"
   ]
  },
  {
   "cell_type": "code",
   "execution_count": 84,
   "metadata": {},
   "outputs": [
    {
     "data": {
      "text/plain": [
       "Text(0.5, 1.0, 'Bar Chart of Explained Variance')"
      ]
     },
     "execution_count": 84,
     "metadata": {},
     "output_type": "execute_result"
    },
    {
     "data": {
      "image/png": "[encoded data removed]",
      "text/plain": [
       "<Figure size 640x480 with 1 Axes>"
      ]
     },
     "metadata": {},
     "output_type": "display_data"
    }
   ],
   "source": [
    "# Create a dataframe of the explained_variance_ratio_ from PCA called PCAvar\n",
    "PCAvar = pd.DataFrame({'var': pca.explained_variance_ratio_,\n",
    "                       'PC':['PC1','PC2','PC3','PC4','PC5']})\n",
    "\n",
    "# Plot the explained variances\n",
    "sns.barplot(x = 'PC', y = 'var', data = PCAvar, color = 'c')\n",
    "plt.title('Bar Chart of Explained Variance')"
   ]
  },
  {
   "cell_type": "markdown",
   "metadata": {},
   "source": [
    "The following is assessed in the assessment.\n",
    "\n",
    "To perform Principal Component Analysis, we will use our wrangling script to produce the dataset we will load into our Notebook for PCA. We will then need to scale and perform PCA in a pipeline which we will fit to our data. To examine the effect of each field on the principal components, we will look at the loadings using the pca.components._T command.\n"
   ]
  },
  {
   "cell_type": "code",
   "execution_count": 89,
   "metadata": {},
   "outputs": [
    {
     "data": {
      "text/html": [
       "<div>\n",
       "<style scoped>\n",
       "    .dataframe tbody tr th:only-of-type {\n",
       "        vertical-align: middle;\n",
       "    }\n",
       "\n",
       "    .dataframe tbody tr th {\n",
       "        vertical-align: top;\n",
       "    }\n",
       "\n",
       "    .dataframe thead th {\n",
       "        text-align: right;\n",
       "    }\n",
       "</style>\n",
       "<table border=\"1\" class=\"dataframe\">\n",
       "  <thead>\n",
       "    <tr style=\"text-align: right;\">\n",
       "      <th></th>\n",
       "      <th>PC1</th>\n",
       "      <th>PC2</th>\n",
       "      <th>PC3</th>\n",
       "      <th>PC4</th>\n",
       "      <th>PC5</th>\n",
       "    </tr>\n",
       "  </thead>\n",
       "  <tbody>\n",
       "    <tr>\n",
       "      <th>AbsAmount</th>\n",
       "      <td>-0.48</td>\n",
       "      <td>0.48</td>\n",
       "      <td>0.17</td>\n",
       "      <td>0.67</td>\n",
       "      <td>0.26</td>\n",
       "    </tr>\n",
       "    <tr>\n",
       "      <th>NTrans</th>\n",
       "      <td>0.59</td>\n",
       "      <td>0.18</td>\n",
       "      <td>0.18</td>\n",
       "      <td>0.48</td>\n",
       "      <td>-0.60</td>\n",
       "    </tr>\n",
       "    <tr>\n",
       "      <th>DoM</th>\n",
       "      <td>0.11</td>\n",
       "      <td>0.86</td>\n",
       "      <td>-0.11</td>\n",
       "      <td>-0.49</td>\n",
       "      <td>-0.05</td>\n",
       "    </tr>\n",
       "    <tr>\n",
       "      <th>JnlTimeN</th>\n",
       "      <td>-0.06</td>\n",
       "      <td>-0.03</td>\n",
       "      <td>0.96</td>\n",
       "      <td>-0.27</td>\n",
       "      <td>0.01</td>\n",
       "    </tr>\n",
       "    <tr>\n",
       "      <th>TotScore</th>\n",
       "      <td>0.64</td>\n",
       "      <td>0.04</td>\n",
       "      <td>0.06</td>\n",
       "      <td>0.12</td>\n",
       "      <td>0.76</td>\n",
       "    </tr>\n",
       "  </tbody>\n",
       "</table>\n",
       "</div>"
      ],
      "text/plain": [
       "            PC1   PC2   PC3   PC4   PC5\n",
       "AbsAmount -0.48  0.48  0.17  0.67  0.26\n",
       "NTrans     0.59  0.18  0.18  0.48 -0.60\n",
       "DoM        0.11  0.86 -0.11 -0.49 -0.05\n",
       "JnlTimeN  -0.06 -0.03  0.96 -0.27  0.01\n",
       "TotScore   0.64  0.04  0.06  0.12  0.76"
      ]
     },
     "execution_count": 89,
     "metadata": {},
     "output_type": "execute_result"
    }
   ],
   "source": [
    "# Save the loadings by saving components_.T from PCA with columns PC 1 to 5 and index equal to the journalsprePCA.columns as a dataframe called loadings\n",
    "loadings = pd.DataFrame(pca.components_.T, columns = ['PC1','PC2','PC3','PC4','PC5'], index = journalsprePCA.columns)\n",
    "\n",
    "# Examine the loadings\n",
    "loadings\n",
    "#loadings indicate each variables effect on the principal component"
   ]
  },
  {
   "cell_type": "markdown",
   "metadata": {},
   "source": [
    "##### <b>Please take a note of what field has the most effect on Principal Component 2.</b>"
   ]
  },
  {
   "cell_type": "markdown",
   "metadata": {},
   "source": [
    "<i>Select here to type your answer: DoM"
   ]
  },
  {
   "cell_type": "markdown",
   "metadata": {},
   "source": [
    "Now we have examined the effect of applying PCA to our data and have scrutinised the Principal Components, we can transform our data into these new components."
   ]
  },
  {
   "cell_type": "code",
   "execution_count": 93,
   "metadata": {},
   "outputs": [],
   "source": [
    "# Transform the data by using the fit_transform command of the pipeline on the journalsprePCA data and save this as PCAfeatures\n",
    "PCAfeatures = pipeline.fit_transform(journalsprePCA)"
   ]
  },
  {
   "cell_type": "code",
   "execution_count": 95,
   "metadata": {},
   "outputs": [
    {
     "data": {
      "text/html": [
       "<div>\n",
       "<style scoped>\n",
       "    .dataframe tbody tr th:only-of-type {\n",
       "        vertical-align: middle;\n",
       "    }\n",
       "\n",
       "    .dataframe tbody tr th {\n",
       "        vertical-align: top;\n",
       "    }\n",
       "\n",
       "    .dataframe thead th {\n",
       "        text-align: right;\n",
       "    }\n",
       "</style>\n",
       "<table border=\"1\" class=\"dataframe\">\n",
       "  <thead>\n",
       "    <tr style=\"text-align: right;\">\n",
       "      <th></th>\n",
       "      <th>PC1</th>\n",
       "      <th>PC2</th>\n",
       "      <th>PC3</th>\n",
       "      <th>PC4</th>\n",
       "      <th>PC5</th>\n",
       "    </tr>\n",
       "    <tr>\n",
       "      <th>JnlNo</th>\n",
       "      <th></th>\n",
       "      <th></th>\n",
       "      <th></th>\n",
       "      <th></th>\n",
       "      <th></th>\n",
       "    </tr>\n",
       "  </thead>\n",
       "  <tbody>\n",
       "    <tr>\n",
       "      <th>1</th>\n",
       "      <td>-0.76</td>\n",
       "      <td>-1.78</td>\n",
       "      <td>0.05</td>\n",
       "      <td>0.87</td>\n",
       "      <td>0.33</td>\n",
       "    </tr>\n",
       "    <tr>\n",
       "      <th>10</th>\n",
       "      <td>-1.08</td>\n",
       "      <td>-0.03</td>\n",
       "      <td>-1.43</td>\n",
       "      <td>-0.94</td>\n",
       "      <td>-0.79</td>\n",
       "    </tr>\n",
       "    <tr>\n",
       "      <th>100</th>\n",
       "      <td>-0.40</td>\n",
       "      <td>-0.02</td>\n",
       "      <td>0.74</td>\n",
       "      <td>-1.36</td>\n",
       "      <td>0.22</td>\n",
       "    </tr>\n",
       "    <tr>\n",
       "      <th>101</th>\n",
       "      <td>0.92</td>\n",
       "      <td>0.20</td>\n",
       "      <td>-0.83</td>\n",
       "      <td>-0.39</td>\n",
       "      <td>0.79</td>\n",
       "    </tr>\n",
       "    <tr>\n",
       "      <th>102</th>\n",
       "      <td>-1.01</td>\n",
       "      <td>1.06</td>\n",
       "      <td>-1.10</td>\n",
       "      <td>0.75</td>\n",
       "      <td>0.50</td>\n",
       "    </tr>\n",
       "  </tbody>\n",
       "</table>\n",
       "</div>"
      ],
      "text/plain": [
       "        PC1   PC2   PC3   PC4   PC5\n",
       "JnlNo                              \n",
       "1     -0.76 -1.78  0.05  0.87  0.33\n",
       "10    -1.08 -0.03 -1.43 -0.94 -0.79\n",
       "100   -0.40 -0.02  0.74 -1.36  0.22\n",
       "101    0.92  0.20 -0.83 -0.39  0.79\n",
       "102   -1.01  1.06 -1.10  0.75  0.50"
      ]
     },
     "execution_count": 95,
     "metadata": {},
     "output_type": "execute_result"
    }
   ],
   "source": [
    "# Create a dataframe, journalspostPCA, with the data being PCAfeatures and the columns as PCs 1 to 5 respectively and the index being the idnex of the prePCA journal data\n",
    "journalspostPCA = pd.DataFrame(data = PCAfeatures, columns = ['PC1','PC2','PC3','PC4','PC5'], index = journalsprePCA.index)\n",
    "\n",
    "# Examine the post PCA data\n",
    "journalspostPCA.head()"
   ]
  },
  {
   "cell_type": "markdown",
   "metadata": {},
   "source": [
    "## Clustering the data\n",
    "\n",
    "Now we have transformed our data into components that capture the variation across multiple fields, we can identify global outliers in the data. We can use clustering to identify the clusters then isolate the outlying points from each cluster. These will be the most anomalous journals across the fields as a whole and we should scrutinise these further. \n",
    "\n",
    "First, we need to cluster the data into the optimal number of clusters, which in this case is 5 clusters.\n",
    "\n",
    "We covered using unsupervised learning techniques such as clustering to identify anomalies in the anomaly detection section in Module 2 of Unit 4: Decision Making. If you purchased the learning and certificate Analyst Pathway, we recommend you revisit this content if you are struggling to complete these tasks."
   ]
  },
  {
   "cell_type": "code",
   "execution_count": 99,
   "metadata": {},
   "outputs": [
    {
     "data": {
      "text/plain": [
       "Text(0.5, 1.0, 'Principal Component Analysis of Journals Data')"
      ]
     },
     "execution_count": 99,
     "metadata": {},
     "output_type": "execute_result"
    },
    {
     "data": {
      "image/png": "[encoded data removed]",
      "text/plain": [
       "<Figure size 640x480 with 1 Axes>"
      ]
     },
     "metadata": {},
     "output_type": "display_data"
    }
   ],
   "source": [
    "# Create a scattergraph of PC1 against PC2\n",
    "sns.scatterplot(x = 'PC1', y = 'PC2', data = journalspostPCA)\n",
    "plt.xlabel('Principal component 1')\n",
    "plt.ylabel('Principal component 2')\n",
    "plt.title('Principal Component Analysis of Journals Data')"
   ]
  },
  {
   "cell_type": "code",
   "execution_count": 103,
   "metadata": {},
   "outputs": [],
   "source": [
    "# Import the required packages\n",
    "from sklearn.pipeline import make_pipeline\n",
    "from sklearn.preprocessing import StandardScaler\n",
    "from sklearn.cluster import KMeans"
   ]
  },
  {
   "cell_type": "code",
   "execution_count": 108,
   "metadata": {},
   "outputs": [],
   "source": [
    "# Fit the StandardScaler command to journalspostPCA and call the result scaler\n",
    "scaler = StandardScaler().fit(journalspostPCA)\n",
    "\n",
    "# Transform journalspostPCA using scaler and call the result scaledjournals\n",
    "scaledjournals = scaler.transform(journalspostPCA)"
   ]
  },
  {
   "cell_type": "code",
   "execution_count": 114,
   "metadata": {},
   "outputs": [],
   "source": [
    "# Define kmeans to be KMeans with 5 clusters fitted to the scaledjournals\n",
    "kmeans = KMeans(n_clusters=5).fit(scaledjournals)\n",
    "# Define labels to be kmeans fit_predict to the scaledjournals\n",
    "labels = kmeans.fit_predict(scaledjournals)"
   ]
  },
  {
   "cell_type": "code",
   "execution_count": 122,
   "metadata": {},
   "outputs": [
    {
     "data": {
      "text/plain": [
       "<matplotlib.collections.PathCollection at 0x12f30ec00>"
      ]
     },
     "execution_count": 122,
     "metadata": {},
     "output_type": "execute_result"
    },
    {
     "data": {
      "image/png": "[encoded data removed]",
      "text/plain": [
       "<Figure size 640x480 with 1 Axes>"
      ]
     },
     "metadata": {},
     "output_type": "display_data"
    }
   ],
   "source": [
    "# Create a scatterplot of the PC1 and PC2 with colour signfying labels\n",
    "plt.scatter(x = 'PC1', y = 'PC2', data = journalspostPCA, c=labels)"
   ]
  },
  {
   "cell_type": "markdown",
   "metadata": {},
   "source": [
    "Now we have clustered our data, we can pick out the anomalous journals by using the centroids of the cluster. These will be the anomalous journals across all fields in the dataset and as such will be our global outliers."
   ]
  },
  {
   "cell_type": "code",
   "execution_count": 124,
   "metadata": {},
   "outputs": [],
   "source": [
    "# Obtain predictions and calculate distance from cluster centroid\n",
    "J_clusters = kmeans.predict(scaledjournals)\n",
    "J_clusters_centers = kmeans.cluster_centers_\n",
    "dist = [np.linalg.norm(x-y) for x, y in zip(scaledjournals, J_clusters_centers[J_clusters])]\n",
    "\n",
    "# Create fraud predictions based on outliers on clusters \n",
    "anomalies = np.array(dist)\n",
    "anomalies[dist >= np.percentile(dist, 99)] = 1\n",
    "anomalies[dist < np.percentile(dist, 99)] = 0"
   ]
  },
  {
   "cell_type": "code",
   "execution_count": 130,
   "metadata": {},
   "outputs": [
    {
     "data": {
      "text/plain": [
       "Text(0.5, 1.0, 'Anomalies based on Clustering')"
      ]
     },
     "execution_count": 130,
     "metadata": {},
     "output_type": "execute_result"
    },
    {
     "data": {
      "image/png": "[encoded data removed]",
      "text/plain": [
       "<Figure size 640x480 with 1 Axes>"
      ]
     },
     "metadata": {},
     "output_type": "display_data"
    }
   ],
   "source": [
    "# Scatterplot of PC1 and PC2 in journalspostPCA with colour signifying anomalies\n",
    "plt.scatter(x = 'PC1', y = 'PC2', data = journalspostPCA,c=anomalies, alpha=0.5)\n",
    "plt.title(\"Anomalies based on Clustering\")\n",
    "#Yellow = anomalous ie =1."
   ]
  },
  {
   "cell_type": "markdown",
   "metadata": {},
   "source": [
    "The following is assessed in the assessment.\n",
    "\n",
    "We first need to transform our data into the results of the PCA by using the fit_transform command of the pipeline and saving this dataset to perform clustering on. It is helpful to save our data in a pandas DataFrame for ease when handling, with the columns specified and index given. We can then scale our data by fitting and transforming our scaler and saving this data to cluster with. We use KMeans clustering with five clusters to fit the data and can then use the cluster centroids to identify anomalies."
   ]
  },
  {
   "cell_type": "code",
   "execution_count": 137,
   "metadata": {},
   "outputs": [
    {
     "data": {
      "text/plain": [
       "6.0"
      ]
     },
     "execution_count": 137,
     "metadata": {},
     "output_type": "execute_result"
    }
   ],
   "source": [
    "# Examine the anomalies in the journalspostPCA dataset i.e. when rows where anomalies==1\n",
    "anomalies.sum()\n"
   ]
  },
  {
   "cell_type": "markdown",
   "metadata": {},
   "source": [
    "##### <b>Please take a note of the number of anomalous journals according to the clustering.</b>"
   ]
  },
  {
   "cell_type": "markdown",
   "metadata": {},
   "source": [
    "<i>Select here to type your answer: 6"
   ]
  },
  {
   "cell_type": "code",
   "execution_count": 142,
   "metadata": {},
   "outputs": [
    {
     "name": "stdout",
     "output_type": "stream",
     "text": [
      "[110, 114, 344, 369, 391, 531]\n"
     ]
    }
   ],
   "source": [
    "# Select the journal numbers, i.e the index of these anomalies, and call them anomalousjournals\n",
    "indices = [i for i, x in enumerate(anomalies) if x == 1]\n",
    "print(indices)"
   ]
  },
  {
   "cell_type": "code",
   "execution_count": 156,
   "metadata": {},
   "outputs": [
    {
     "name": "stdout",
     "output_type": "stream",
     "text": [
      "        Account            AccountDesc TransDesc    Debit  Credit  Period  \\\n",
      "110  00-80-8027      Other Stock Costs       ZZZ     0.00  945.54  2019-3   \n",
      "114  00-80-8027      Other Stock Costs       ZZZ     0.00 5574.58  2019-3   \n",
      "344  00-80-8037  Forex Holding Account       849     0.00 1385.41  2019-4   \n",
      "369  00-70-7023  Forex - Realised Diff      1208 12074.25    0.00  2019-4   \n",
      "391  00-70-7022  Forex - Realised Diff       123     0.00  122.14  2019-4   \n",
      "531  00-80-8027      Other Stock Costs       ZZZ     0.00 7682.80  2019-4   \n",
      "\n",
      "    JnlNo JnlDesc   Amount JnlPrep  ... AuthIsRaiser JnlDescBlank JnlOOH  \\\n",
      "110   114     NaN  -945.54    HV09  ...            0            1      0   \n",
      "114   114     NaN -5574.58    HV09  ...            0            1      0   \n",
      "344   143     NaN -1385.41    CH20  ...            0            1      1   \n",
      "369   144     NaN 12074.25    AS13  ...            0            1      0   \n",
      "391   149     NaN  -122.14    DF18  ...            0            1      0   \n",
      "531   167     NaN -7682.80    AS13  ...            0            1      0   \n",
      "\n",
      "    JnlDoW  AtWeekend Unbalanced   DateMerge  Holiday  IsHoliday  TotScore  \n",
      "110      6          1          0  2019-03-31      NaN          0         2  \n",
      "114      6          1          0  2019-03-31      NaN          0         2  \n",
      "344      0          0          0  2019-04-29      NaN          0         2  \n",
      "369      0          0          0  2019-04-29      NaN          0         1  \n",
      "391      0          0          0  2019-04-29      NaN          0         1  \n",
      "531      1          0          0  2019-04-30      NaN          0         1  \n",
      "\n",
      "[6 rows x 31 columns]\n"
     ]
    }
   ],
   "source": [
    "# Examine the journals with the anomalous journal numbers\n",
    "journals1 = pd.DataFrame(journals, index = indices)\n",
    "print(journals1)\n"
   ]
  },
  {
   "cell_type": "markdown",
   "metadata": {},
   "source": [
    "##### Assessment guidance\n",
    "\n",
    "You are ready to take the assessment.\n",
    "\n",
    "Remember, you should have fully completed your task and recorded your answers in Jupyter Notebook before moving on to the assessment. You can keep your Jupyter Notebook open in a separate browser window to refer to as you take the assessment.  \n",
    "\n",
    "You will receive a score following completion of the assessment. If you have scored below the target mark of 60% for the section, you are recommended to refresh your knowledge in the course content (if purchased) and rework your Jupyter Notebook before re-attempting the assessment. You have a maximum of three assessment attempts.\n",
    "\n",
    "You should aim to achieve a target score of 60% in each section of the case study. To pass the case study and be awarded the ICAEW Certificate, you are required to achieve a pass mark of 60% overall, averaged over all five sections, so do not be disheartened if you score below 60% in any one section, as a higher score in one or more of the other sections will contribute to the overall pass mark of 60%.\n",
    "\n",
    "IMPORTANT: When submitting to the assessment portal, please do not navigate away from it until you have submitted all of your answers for that task. In between any of your 3 assessment attempts (but not during an attempt) you may navigate back to the course content, if you have purchased it, to refresh your knowledge and revisit your Jupyter Notebook to rework your analysis."
   ]
  }
 ],
 "metadata": {
  "kernelspec": {
   "display_name": "Python [conda env:base] *",
   "language": "python",
   "name": "conda-base-py"
  },
  "language_info": {
   "codemirror_mode": {
    "name": "ipython",
    "version": 3
   },
   "file_extension": ".py",
   "mimetype": "text/x-python",
   "name": "python",
   "nbconvert_exporter": "python",
   "pygments_lexer": "ipython3",
   "version": "3.12.7"
  }
 },
 "nbformat": 4,
 "nbformat_minor": 4
}
