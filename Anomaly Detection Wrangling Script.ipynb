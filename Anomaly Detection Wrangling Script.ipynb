{
 "cells": [
  {
   "cell_type": "markdown",
   "metadata": {},
   "source": [
    "# U4 Data Analysis\n",
    "## M02 Demo - Anomaly Detection Wrangling Script"
   ]
  },
  {
   "cell_type": "markdown",
   "metadata": {},
   "source": [
    "Previous code from demos"
   ]
  },
  {
   "cell_type": "code",
   "execution_count": 12,
   "metadata": {},
   "outputs": [],
   "source": [
    "# Load the required packages\n",
    "import pandas as pd\n",
    "import numpy as np\n",
    "import seaborn as sns\n",
    "import matplotlib.pyplot as plt \n",
    "import datetime as dt\n",
    "# Set global options\n",
    "pd.set_option('display.float_format', '{:.2f}'.format) "
   ]
  },
  {
   "cell_type": "markdown",
   "metadata": {},
   "source": [
    "## Data Import"
   ]
  },
  {
   "cell_type": "code",
   "execution_count": 14,
   "metadata": {},
   "outputs": [],
   "source": [
    "# Load in the data - Change to the users file locations\n",
    "# Import the journals dataset as journals\n",
    "journals=pd.read_excel('Journals2.xlsx')\n",
    "# Import the bank holidays dataset as bank_hols \n",
    "bank_hols = pd.read_excel('Bank Holidays 2018-2020.xlsx')"
   ]
  },
  {
   "cell_type": "markdown",
   "metadata": {},
   "source": [
    "## Data Wrangling"
   ]
  },
  {
   "cell_type": "markdown",
   "metadata": {},
   "source": [
    "Change data types"
   ]
  },
  {
   "cell_type": "code",
   "execution_count": 16,
   "metadata": {},
   "outputs": [],
   "source": [
    "# Specify date formal\n",
    "journals['JnlDateTime'] = pd.to_datetime(journals['JnlDateTime'], format = '%d/%m/%Y %H:%M')\n",
    "journals['JnlDate']=journals['JnlDateTime'].dt.date\n",
    "# Specify JnlNo is a string\n",
    "journals.JnlNo = journals.JnlNo.astype('str')"
   ]
  },
  {
   "cell_type": "markdown",
   "metadata": {},
   "source": [
    "### Add new columns for analysis"
   ]
  },
  {
   "cell_type": "markdown",
   "metadata": {},
   "source": [
    "Add new time columns"
   ]
  },
  {
   "cell_type": "code",
   "execution_count": 21,
   "metadata": {},
   "outputs": [],
   "source": [
    "# Create columns for time, hour and date using the datetime command dt \n",
    "journals['JnlTime'] = journals['JnlDateTime'].dt.time              \n",
    "journals['Hr'] = journals['JnlDateTime'].dt.hour"
   ]
  },
  {
   "cell_type": "markdown",
   "metadata": {},
   "source": [
    "Add continuous time variable for the time of day journal posted"
   ]
  },
  {
   "cell_type": "code",
   "execution_count": 23,
   "metadata": {},
   "outputs": [],
   "source": [
    "# Add the hour to the minutes as a fraction of an hour to create a continuous number\n",
    "journals['JnlTimeN']=journals['Hr']+journals['JnlDateTime'].dt.minute/60"
   ]
  },
  {
   "cell_type": "markdown",
   "metadata": {},
   "source": [
    "Add continuous variable for day of the month journal posted"
   ]
  },
  {
   "cell_type": "code",
   "execution_count": 25,
   "metadata": {},
   "outputs": [],
   "source": [
    "# Create a column for Day of the Month journal is posted\n",
    "journals['DoM']=journals['JnlDateTime'].dt.day"
   ]
  },
  {
   "cell_type": "markdown",
   "metadata": {},
   "source": [
    "Add a column for absolute amount"
   ]
  },
  {
   "cell_type": "code",
   "execution_count": 27,
   "metadata": {},
   "outputs": [],
   "source": [
    "# Absolute the amount value using the abs command in the numpy package\n",
    "journals['AbsAmount'] = np.abs(journals['Amount']) "
   ]
  },
  {
   "cell_type": "markdown",
   "metadata": {},
   "source": [
    "Add a column with total number of transaction per the journal number"
   ]
  },
  {
   "cell_type": "code",
   "execution_count": 29,
   "metadata": {},
   "outputs": [],
   "source": [
    "# Calculate the total number of transaction by grouping by journal number and selecting a column\n",
    "NTrans=pd.DataFrame({'NTrans':journals.groupby('JnlNo').count().Account})\n",
    "# Add this column to the journals dataset\n",
    "journals=journals.merge(NTrans,left_on='JnlNo',right_on='JnlNo',how=\"left\")"
   ]
  },
  {
   "cell_type": "markdown",
   "metadata": {},
   "source": [
    "## Create True and False Tests"
   ]
  },
  {
   "cell_type": "markdown",
   "metadata": {},
   "source": [
    "1. Preparer is the same as Authorisor"
   ]
  },
  {
   "cell_type": "code",
   "execution_count": 32,
   "metadata": {},
   "outputs": [],
   "source": [
    "# Create a new column which evaluates if journal preparer is identical to journal authoriser\n",
    "journals = journals.eval('AuthIsRaiser = JnlPrep == JnlAuth')\n",
    "# Change from boolean to numeric\n",
    "journals['AuthIsRaiser'] = journals['AuthIsRaiser'].astype(int) "
   ]
  },
  {
   "cell_type": "markdown",
   "metadata": {},
   "source": [
    "2. Journal Description is Blank"
   ]
  },
  {
   "cell_type": "code",
   "execution_count": 35,
   "metadata": {},
   "outputs": [],
   "source": [
    "# Create a new column that checks if journal description is missing\n",
    "journals['JnlDescBlank'] = journals['JnlDesc'].isna()\n",
    "# Change from boolean to numeric\n",
    "journals['JnlDescBlank'] = journals['JnlDescBlank'].astype(int) "
   ]
  },
  {
   "cell_type": "markdown",
   "metadata": {},
   "source": [
    "3. Journals Posted Out-of-hours"
   ]
  },
  {
   "cell_type": "code",
   "execution_count": 39,
   "metadata": {},
   "outputs": [],
   "source": [
    "# Create a new column that evaluates if time posted is out of working hours (set as 8am til 6pm)\n",
    "journals['JnlOOH'] = journals['Hr'].apply(lambda x: 1 if x>=18 or x<=8 else 0)"
   ]
  },
  {
   "cell_type": "markdown",
   "metadata": {},
   "source": [
    "4. Journals Posted at weekend"
   ]
  },
  {
   "cell_type": "code",
   "execution_count": 42,
   "metadata": {},
   "outputs": [],
   "source": [
    "# Creates a day of the week column using datetime (this is represented in numeric form 0-6)\n",
    "journals['JnlDoW'] = journals['JnlDateTime'].dt.dayofweek\n",
    "# Creates a new column that evaluates if journal is posted at a weekend (i.e 5 or 6)\n",
    "journals['AtWeekend'] = journals['JnlDoW'].apply(lambda x: 1 if x > 4 else 0)"
   ]
  },
  {
   "cell_type": "markdown",
   "metadata": {},
   "source": [
    "5. Unbalanced Journals"
   ]
  },
  {
   "cell_type": "code",
   "execution_count": 50,
   "metadata": {},
   "outputs": [],
   "source": [
    "# Creates a subset of journal indexes whose total debit and credits does not balance\n",
    "unbalancedjnls = journals[['JnlNo','Credit','Debit']]\n",
    "unbalancedjnls = unbalancedjnls.groupby('JnlNo').sum().eval('JnlDiff = Debit-Credit').query('JnlDiff != 0.00').index\n",
    "# Creates a column that indicates whether each JnlNo is in the unbalanced journals subset\n",
    "journals['Unbalanced'] = journals['JnlNo'].apply(lambda x: 1 if x in unbalancedjnls else 0)"
   ]
  },
  {
   "cell_type": "markdown",
   "metadata": {},
   "source": [
    "6. Journals Posted on a Holiday"
   ]
  },
  {
   "cell_type": "code",
   "execution_count": 52,
   "metadata": {},
   "outputs": [],
   "source": [
    "# Set the relevant date columns to strings for comparison \n",
    "journals['DateMerge']=journals['JnlDate'].astype(str)\n",
    "bank_hols['Holiday']=bank_hols['Holiday'].astype(str)\n",
    "# Merge the datasets to obtain the holiday date added in\n",
    "journals=journals.merge(bank_hols, right_on=\"Holiday\",left_on=\"DateMerge\",how=\"left\")\n",
    "# Create a new column that says whether there is a holiday date given or not\n",
    "journals['IsHoliday'] = journals[\"Holiday\"].isna().apply(lambda x: 1 if x==0 else 0)"
   ]
  },
  {
   "cell_type": "markdown",
   "metadata": {},
   "source": [
    "## Final Dataset Prep"
   ]
  },
  {
   "cell_type": "markdown",
   "metadata": {},
   "source": [
    "Combine Truth and False into a continuous score"
   ]
  },
  {
   "cell_type": "code",
   "execution_count": 55,
   "metadata": {},
   "outputs": [],
   "source": [
    "# Sum the true or falses to obtain total score\n",
    "journals = journals.eval('TotScore = AuthIsRaiser + JnlDescBlank + JnlOOH + AtWeekend + Unbalanced + IsHoliday')"
   ]
  },
  {
   "cell_type": "markdown",
   "metadata": {},
   "source": [
    "Select columns for PCA"
   ]
  },
  {
   "cell_type": "code",
   "execution_count": 57,
   "metadata": {},
   "outputs": [],
   "source": [
    "journalsprePCA=journals[[\"JnlNo\",\"NTrans\",\"DoM\",\"JnlTimeN\",\"TotScore\"]]"
   ]
  },
  {
   "cell_type": "markdown",
   "metadata": {},
   "source": [
    "Combine with total amount for journals"
   ]
  },
  {
   "cell_type": "code",
   "execution_count": 59,
   "metadata": {},
   "outputs": [],
   "source": [
    "# Group by Journal number and sum and half the Absolute amount to calculate the total value\n",
    "journalstotals=journals.groupby(\"JnlNo\")[\"AbsAmount\"].sum()/2\n",
    "# Turn this into a dataframe and merge to obtain details for each journal number\n",
    "journalstotals=pd.DataFrame(journalstotals)\n",
    "journalsprePCA=journalstotals.merge(journalsprePCA,how=\"left\",right_on=\"JnlNo\",left_on=\"JnlNo\").drop_duplicates().set_index(\"JnlNo\")"
   ]
  },
  {
   "cell_type": "code",
   "execution_count": 61,
   "metadata": {},
   "outputs": [
    {
     "data": {
      "text/html": [
       "<div>\n",
       "<style scoped>\n",
       "    .dataframe tbody tr th:only-of-type {\n",
       "        vertical-align: middle;\n",
       "    }\n",
       "\n",
       "    .dataframe tbody tr th {\n",
       "        vertical-align: top;\n",
       "    }\n",
       "\n",
       "    .dataframe thead th {\n",
       "        text-align: right;\n",
       "    }\n",
       "</style>\n",
       "<table border=\"1\" class=\"dataframe\">\n",
       "  <thead>\n",
       "    <tr style=\"text-align: right;\">\n",
       "      <th></th>\n",
       "      <th>AbsAmount</th>\n",
       "      <th>NTrans</th>\n",
       "      <th>DoM</th>\n",
       "      <th>JnlTimeN</th>\n",
       "      <th>TotScore</th>\n",
       "    </tr>\n",
       "    <tr>\n",
       "      <th>JnlNo</th>\n",
       "      <th></th>\n",
       "      <th></th>\n",
       "      <th></th>\n",
       "      <th></th>\n",
       "      <th></th>\n",
       "    </tr>\n",
       "  </thead>\n",
       "  <tbody>\n",
       "    <tr>\n",
       "      <th>1</th>\n",
       "      <td>300859.89</td>\n",
       "      <td>4</td>\n",
       "      <td>1</td>\n",
       "      <td>13.07</td>\n",
       "      <td>1</td>\n",
       "    </tr>\n",
       "    <tr>\n",
       "      <th>10</th>\n",
       "      <td>12848.50</td>\n",
       "      <td>2</td>\n",
       "      <td>30</td>\n",
       "      <td>9.93</td>\n",
       "      <td>0</td>\n",
       "    </tr>\n",
       "    <tr>\n",
       "      <th>100</th>\n",
       "      <td>24839.41</td>\n",
       "      <td>2</td>\n",
       "      <td>30</td>\n",
       "      <td>16.92</td>\n",
       "      <td>1</td>\n",
       "    </tr>\n",
       "    <tr>\n",
       "      <th>101</th>\n",
       "      <td>22257.21</td>\n",
       "      <td>6</td>\n",
       "      <td>30</td>\n",
       "      <td>10.98</td>\n",
       "      <td>2</td>\n",
       "    </tr>\n",
       "    <tr>\n",
       "      <th>102</th>\n",
       "      <td>785539.06</td>\n",
       "      <td>4</td>\n",
       "      <td>30</td>\n",
       "      <td>9.38</td>\n",
       "      <td>1</td>\n",
       "    </tr>\n",
       "  </tbody>\n",
       "</table>\n",
       "</div>"
      ],
      "text/plain": [
       "       AbsAmount  NTrans  DoM  JnlTimeN  TotScore\n",
       "JnlNo                                            \n",
       "1      300859.89       4    1     13.07         1\n",
       "10      12848.50       2   30      9.93         0\n",
       "100     24839.41       2   30     16.92         1\n",
       "101     22257.21       6   30     10.98         2\n",
       "102    785539.06       4   30      9.38         1"
      ]
     },
     "execution_count": 61,
     "metadata": {},
     "output_type": "execute_result"
    }
   ],
   "source": [
    "journalsprePCA.head()"
   ]
  },
  {
   "cell_type": "code",
   "execution_count": null,
   "metadata": {},
   "outputs": [],
   "source": []
  }
 ],
 "metadata": {
  "kernelspec": {
   "display_name": "Python [conda env:base] *",
   "language": "python",
   "name": "conda-base-py"
  },
  "language_info": {
   "codemirror_mode": {
    "name": "ipython",
    "version": 3
   },
   "file_extension": ".py",
   "mimetype": "text/x-python",
   "name": "python",
   "nbconvert_exporter": "python",
   "pygments_lexer": "ipython3",
   "version": "3.12.7"
  }
 },
 "nbformat": 4,
 "nbformat_minor": 4
}
